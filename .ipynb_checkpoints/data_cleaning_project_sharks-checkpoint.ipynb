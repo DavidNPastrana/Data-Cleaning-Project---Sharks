{
 "cells": [
  {
   "cell_type": "markdown",
   "id": "19aa868f",
   "metadata": {},
   "source": [
    "# Shark Attack Dataset: Cleaning, Transformation and Visualisation of Poor Quality Data\n",
    "\n",
    "\n",
    "### Project Description: \n",
    "This project focuses on cleaning, transforming and visualizing a dataset containing information about shark attacks. The original data attempts to be a log of shark attacks throughout the ages and contains several features related to the attacks, such as the date, location, information about the victim, and the type of shark involved. However, there are many data quality issues, such as missing values and inconsistencies, which this project aims to improve.\n",
    "We use the python library pandas to manipulate, clean and transform the data and do some initial analysis and visualization of the cleaned dataset using the plotting library Matplotlib.\n",
    "\n",
    "### Data Cleaning and Transformation Steps:\n",
    "In this project, we perform several cleaning steps to improve the quality of the data, such as:\n",
    "- Removing duplicate rows\n",
    "- Removing almost empty rows\n",
    "- Removing or filling missing values in columns\n",
    "- Standardizing age and date columns\n",
    "- Creating new columns based on existing information\n",
    "\n",
    "### Data Analysis and Visualisation:\n",
    "After completing the previous steps, we use the cleaned dataset to perform an initial analysis of the data. We explore possible relationships between variables and create informative plots to better visualise them. This initial analysis aims to provide a foundation for further in-depth investigations."
   ]
  },
  {
   "cell_type": "code",
   "execution_count": 1,
   "id": "198b1c3c",
   "metadata": {},
   "outputs": [],
   "source": [
    "# import relevant libraries\n",
    "\n",
    "import pandas as pd\n",
    "import numpy as np\n",
    "import re\n",
    "import matplotlib.pyplot as plt"
   ]
  },
  {
   "cell_type": "code",
   "execution_count": 2,
   "id": "ce34701a",
   "metadata": {},
   "outputs": [],
   "source": [
    "pd.set_option('display.max_columns', None)  # display all columns\n",
    "pd.set_option('display.max_rows', None)  # display all rows"
   ]
  },
  {
   "cell_type": "code",
   "execution_count": 3,
   "id": "1467d0da",
   "metadata": {},
   "outputs": [],
   "source": [
    "data_ori = pd.read_csv('/Users/david/Desktop/IronHack/Projects/project1_cleaning_data/Data-Cleaning-Project---Sharks/attacks.csv', encoding='latin1')"
   ]
  },
  {
   "cell_type": "code",
   "execution_count": 4,
   "id": "64b3573d",
   "metadata": {},
   "outputs": [],
   "source": [
    "# Make a copy of the df as a backup\n",
    "data=data_ori.copy()"
   ]
  },
  {
   "cell_type": "markdown",
   "id": "ed8d9b66",
   "metadata": {},
   "source": [
    "# Initial data exploration"
   ]
  },
  {
   "cell_type": "code",
   "execution_count": 5,
   "id": "5b29b703",
   "metadata": {},
   "outputs": [
    {
     "data": {
      "text/plain": [
       "(25723, 24)"
      ]
     },
     "execution_count": 5,
     "metadata": {},
     "output_type": "execute_result"
    }
   ],
   "source": [
    "data.shape"
   ]
  },
  {
   "cell_type": "code",
   "execution_count": 6,
   "id": "84c6293f",
   "metadata": {},
   "outputs": [
    {
     "data": {
      "text/html": [
       "<div>\n",
       "<style scoped>\n",
       "    .dataframe tbody tr th:only-of-type {\n",
       "        vertical-align: middle;\n",
       "    }\n",
       "\n",
       "    .dataframe tbody tr th {\n",
       "        vertical-align: top;\n",
       "    }\n",
       "\n",
       "    .dataframe thead th {\n",
       "        text-align: right;\n",
       "    }\n",
       "</style>\n",
       "<table border=\"1\" class=\"dataframe\">\n",
       "  <thead>\n",
       "    <tr style=\"text-align: right;\">\n",
       "      <th></th>\n",
       "      <th>Case Number</th>\n",
       "      <th>Date</th>\n",
       "      <th>Year</th>\n",
       "      <th>Type</th>\n",
       "      <th>Country</th>\n",
       "      <th>Area</th>\n",
       "      <th>Location</th>\n",
       "      <th>Activity</th>\n",
       "      <th>Name</th>\n",
       "      <th>Sex</th>\n",
       "      <th>Age</th>\n",
       "      <th>Injury</th>\n",
       "      <th>Fatal (Y/N)</th>\n",
       "      <th>Time</th>\n",
       "      <th>Species</th>\n",
       "      <th>Investigator or Source</th>\n",
       "      <th>pdf</th>\n",
       "      <th>href formula</th>\n",
       "      <th>href</th>\n",
       "      <th>Case Number.1</th>\n",
       "      <th>Case Number.2</th>\n",
       "      <th>original order</th>\n",
       "      <th>Unnamed: 22</th>\n",
       "      <th>Unnamed: 23</th>\n",
       "    </tr>\n",
       "  </thead>\n",
       "  <tbody>\n",
       "    <tr>\n",
       "      <th>0</th>\n",
       "      <td>2018.06.25</td>\n",
       "      <td>25-Jun-2018</td>\n",
       "      <td>2018.0</td>\n",
       "      <td>Boating</td>\n",
       "      <td>USA</td>\n",
       "      <td>California</td>\n",
       "      <td>Oceanside, San Diego County</td>\n",
       "      <td>Paddling</td>\n",
       "      <td>Julie Wolfe</td>\n",
       "      <td>F</td>\n",
       "      <td>57</td>\n",
       "      <td>No injury to occupant, outrigger canoe and pad...</td>\n",
       "      <td>N</td>\n",
       "      <td>18h00</td>\n",
       "      <td>White shark</td>\n",
       "      <td>R. Collier, GSAF</td>\n",
       "      <td>2018.06.25-Wolfe.pdf</td>\n",
       "      <td>http://sharkattackfile.net/spreadsheets/pdf_di...</td>\n",
       "      <td>http://sharkattackfile.net/spreadsheets/pdf_di...</td>\n",
       "      <td>2018.06.25</td>\n",
       "      <td>2018.06.25</td>\n",
       "      <td>6303.0</td>\n",
       "      <td>NaN</td>\n",
       "      <td>NaN</td>\n",
       "    </tr>\n",
       "    <tr>\n",
       "      <th>1</th>\n",
       "      <td>2018.06.18</td>\n",
       "      <td>18-Jun-2018</td>\n",
       "      <td>2018.0</td>\n",
       "      <td>Unprovoked</td>\n",
       "      <td>USA</td>\n",
       "      <td>Georgia</td>\n",
       "      <td>St. Simon Island, Glynn County</td>\n",
       "      <td>Standing</td>\n",
       "      <td>Adyson McNeely</td>\n",
       "      <td>F</td>\n",
       "      <td>11</td>\n",
       "      <td>Minor injury to left thigh</td>\n",
       "      <td>N</td>\n",
       "      <td>14h00  -15h00</td>\n",
       "      <td>NaN</td>\n",
       "      <td>K.McMurray, TrackingSharks.com</td>\n",
       "      <td>2018.06.18-McNeely.pdf</td>\n",
       "      <td>http://sharkattackfile.net/spreadsheets/pdf_di...</td>\n",
       "      <td>http://sharkattackfile.net/spreadsheets/pdf_di...</td>\n",
       "      <td>2018.06.18</td>\n",
       "      <td>2018.06.18</td>\n",
       "      <td>6302.0</td>\n",
       "      <td>NaN</td>\n",
       "      <td>NaN</td>\n",
       "    </tr>\n",
       "    <tr>\n",
       "      <th>2</th>\n",
       "      <td>2018.06.09</td>\n",
       "      <td>09-Jun-2018</td>\n",
       "      <td>2018.0</td>\n",
       "      <td>Invalid</td>\n",
       "      <td>USA</td>\n",
       "      <td>Hawaii</td>\n",
       "      <td>Habush, Oahu</td>\n",
       "      <td>Surfing</td>\n",
       "      <td>John Denges</td>\n",
       "      <td>M</td>\n",
       "      <td>48</td>\n",
       "      <td>Injury to left lower leg from surfboard skeg</td>\n",
       "      <td>N</td>\n",
       "      <td>07h45</td>\n",
       "      <td>NaN</td>\n",
       "      <td>K.McMurray, TrackingSharks.com</td>\n",
       "      <td>2018.06.09-Denges.pdf</td>\n",
       "      <td>http://sharkattackfile.net/spreadsheets/pdf_di...</td>\n",
       "      <td>http://sharkattackfile.net/spreadsheets/pdf_di...</td>\n",
       "      <td>2018.06.09</td>\n",
       "      <td>2018.06.09</td>\n",
       "      <td>6301.0</td>\n",
       "      <td>NaN</td>\n",
       "      <td>NaN</td>\n",
       "    </tr>\n",
       "    <tr>\n",
       "      <th>3</th>\n",
       "      <td>2018.06.08</td>\n",
       "      <td>08-Jun-2018</td>\n",
       "      <td>2018.0</td>\n",
       "      <td>Unprovoked</td>\n",
       "      <td>AUSTRALIA</td>\n",
       "      <td>New South Wales</td>\n",
       "      <td>Arrawarra Headland</td>\n",
       "      <td>Surfing</td>\n",
       "      <td>male</td>\n",
       "      <td>M</td>\n",
       "      <td>NaN</td>\n",
       "      <td>Minor injury to lower leg</td>\n",
       "      <td>N</td>\n",
       "      <td>NaN</td>\n",
       "      <td>2 m shark</td>\n",
       "      <td>B. Myatt, GSAF</td>\n",
       "      <td>2018.06.08-Arrawarra.pdf</td>\n",
       "      <td>http://sharkattackfile.net/spreadsheets/pdf_di...</td>\n",
       "      <td>http://sharkattackfile.net/spreadsheets/pdf_di...</td>\n",
       "      <td>2018.06.08</td>\n",
       "      <td>2018.06.08</td>\n",
       "      <td>6300.0</td>\n",
       "      <td>NaN</td>\n",
       "      <td>NaN</td>\n",
       "    </tr>\n",
       "    <tr>\n",
       "      <th>4</th>\n",
       "      <td>2018.06.04</td>\n",
       "      <td>04-Jun-2018</td>\n",
       "      <td>2018.0</td>\n",
       "      <td>Provoked</td>\n",
       "      <td>MEXICO</td>\n",
       "      <td>Colima</td>\n",
       "      <td>La Ticla</td>\n",
       "      <td>Free diving</td>\n",
       "      <td>Gustavo Ramos</td>\n",
       "      <td>M</td>\n",
       "      <td>NaN</td>\n",
       "      <td>Lacerations to leg &amp; hand shark PROVOKED INCIDENT</td>\n",
       "      <td>N</td>\n",
       "      <td>NaN</td>\n",
       "      <td>Tiger shark, 3m</td>\n",
       "      <td>A .Kipper</td>\n",
       "      <td>2018.06.04-Ramos.pdf</td>\n",
       "      <td>http://sharkattackfile.net/spreadsheets/pdf_di...</td>\n",
       "      <td>http://sharkattackfile.net/spreadsheets/pdf_di...</td>\n",
       "      <td>2018.06.04</td>\n",
       "      <td>2018.06.04</td>\n",
       "      <td>6299.0</td>\n",
       "      <td>NaN</td>\n",
       "      <td>NaN</td>\n",
       "    </tr>\n",
       "  </tbody>\n",
       "</table>\n",
       "</div>"
      ],
      "text/plain": [
       "  Case Number         Date    Year        Type    Country             Area  \\\n",
       "0  2018.06.25  25-Jun-2018  2018.0     Boating        USA       California   \n",
       "1  2018.06.18  18-Jun-2018  2018.0  Unprovoked        USA          Georgia   \n",
       "2  2018.06.09  09-Jun-2018  2018.0     Invalid        USA           Hawaii   \n",
       "3  2018.06.08  08-Jun-2018  2018.0  Unprovoked  AUSTRALIA  New South Wales   \n",
       "4  2018.06.04  04-Jun-2018  2018.0    Provoked     MEXICO           Colima   \n",
       "\n",
       "                         Location     Activity             Name Sex   Age  \\\n",
       "0     Oceanside, San Diego County     Paddling      Julie Wolfe    F   57   \n",
       "1  St. Simon Island, Glynn County     Standing  Adyson McNeely     F   11   \n",
       "2                    Habush, Oahu      Surfing      John Denges    M   48   \n",
       "3              Arrawarra Headland      Surfing             male    M  NaN   \n",
       "4                        La Ticla  Free diving   Gustavo Ramos     M  NaN   \n",
       "\n",
       "                                              Injury Fatal (Y/N)  \\\n",
       "0  No injury to occupant, outrigger canoe and pad...           N   \n",
       "1                         Minor injury to left thigh           N   \n",
       "2       Injury to left lower leg from surfboard skeg           N   \n",
       "3                          Minor injury to lower leg           N   \n",
       "4  Lacerations to leg & hand shark PROVOKED INCIDENT           N   \n",
       "\n",
       "            Time         Species           Investigator or Source  \\\n",
       "0          18h00      White shark                R. Collier, GSAF   \n",
       "1  14h00  -15h00              NaN  K.McMurray, TrackingSharks.com   \n",
       "2          07h45              NaN  K.McMurray, TrackingSharks.com   \n",
       "3            NaN        2 m shark                  B. Myatt, GSAF   \n",
       "4            NaN  Tiger shark, 3m                       A .Kipper   \n",
       "\n",
       "                        pdf  \\\n",
       "0      2018.06.25-Wolfe.pdf   \n",
       "1    2018.06.18-McNeely.pdf   \n",
       "2     2018.06.09-Denges.pdf   \n",
       "3  2018.06.08-Arrawarra.pdf   \n",
       "4      2018.06.04-Ramos.pdf   \n",
       "\n",
       "                                        href formula  \\\n",
       "0  http://sharkattackfile.net/spreadsheets/pdf_di...   \n",
       "1  http://sharkattackfile.net/spreadsheets/pdf_di...   \n",
       "2  http://sharkattackfile.net/spreadsheets/pdf_di...   \n",
       "3  http://sharkattackfile.net/spreadsheets/pdf_di...   \n",
       "4  http://sharkattackfile.net/spreadsheets/pdf_di...   \n",
       "\n",
       "                                                href Case Number.1  \\\n",
       "0  http://sharkattackfile.net/spreadsheets/pdf_di...    2018.06.25   \n",
       "1  http://sharkattackfile.net/spreadsheets/pdf_di...    2018.06.18   \n",
       "2  http://sharkattackfile.net/spreadsheets/pdf_di...    2018.06.09   \n",
       "3  http://sharkattackfile.net/spreadsheets/pdf_di...    2018.06.08   \n",
       "4  http://sharkattackfile.net/spreadsheets/pdf_di...    2018.06.04   \n",
       "\n",
       "  Case Number.2  original order Unnamed: 22 Unnamed: 23  \n",
       "0    2018.06.25          6303.0         NaN         NaN  \n",
       "1    2018.06.18          6302.0         NaN         NaN  \n",
       "2    2018.06.09          6301.0         NaN         NaN  \n",
       "3    2018.06.08          6300.0         NaN         NaN  \n",
       "4    2018.06.04          6299.0         NaN         NaN  "
      ]
     },
     "execution_count": 6,
     "metadata": {},
     "output_type": "execute_result"
    }
   ],
   "source": [
    "data.head()"
   ]
  },
  {
   "cell_type": "code",
   "execution_count": 7,
   "id": "b1ee27ad",
   "metadata": {},
   "outputs": [
    {
     "name": "stdout",
     "output_type": "stream",
     "text": [
      "<class 'pandas.core.frame.DataFrame'>\n",
      "RangeIndex: 25723 entries, 0 to 25722\n",
      "Data columns (total 24 columns):\n",
      " #   Column                  Non-Null Count  Dtype  \n",
      "---  ------                  --------------  -----  \n",
      " 0   Case Number             8702 non-null   object \n",
      " 1   Date                    6302 non-null   object \n",
      " 2   Year                    6300 non-null   float64\n",
      " 3   Type                    6298 non-null   object \n",
      " 4   Country                 6252 non-null   object \n",
      " 5   Area                    5847 non-null   object \n",
      " 6   Location                5762 non-null   object \n",
      " 7   Activity                5758 non-null   object \n",
      " 8   Name                    6092 non-null   object \n",
      " 9   Sex                     5737 non-null   object \n",
      " 10  Age                     3471 non-null   object \n",
      " 11  Injury                  6274 non-null   object \n",
      " 12  Fatal (Y/N)             5763 non-null   object \n",
      " 13  Time                    2948 non-null   object \n",
      " 14  Species                 3464 non-null   object \n",
      " 15  Investigator or Source  6285 non-null   object \n",
      " 16  pdf                     6302 non-null   object \n",
      " 17  href formula            6301 non-null   object \n",
      " 18  href                    6302 non-null   object \n",
      " 19  Case Number.1           6302 non-null   object \n",
      " 20  Case Number.2           6302 non-null   object \n",
      " 21  original order          6309 non-null   float64\n",
      " 22  Unnamed: 22             1 non-null      object \n",
      " 23  Unnamed: 23             2 non-null      object \n",
      "dtypes: float64(2), object(22)\n",
      "memory usage: 4.7+ MB\n"
     ]
    }
   ],
   "source": [
    "data.info()"
   ]
  },
  {
   "cell_type": "markdown",
   "id": "63494fbe",
   "metadata": {},
   "source": [
    "# Data cleaning and transformation"
   ]
  },
  {
   "cell_type": "markdown",
   "id": "964596f3",
   "metadata": {},
   "source": [
    "## Standardize column names"
   ]
  },
  {
   "cell_type": "markdown",
   "id": "45c9ae6b",
   "metadata": {},
   "source": [
    "### Remove trailing spaces"
   ]
  },
  {
   "cell_type": "code",
   "execution_count": 8,
   "id": "328ceea7",
   "metadata": {},
   "outputs": [],
   "source": [
    "for c in data.columns:\n",
    "    new_name = c.strip()  # Remove leading and trailing white spaces from the column name\n",
    "    data = data.rename(columns={c: new_name})"
   ]
  },
  {
   "cell_type": "code",
   "execution_count": 9,
   "id": "87a6bff5",
   "metadata": {},
   "outputs": [
    {
     "data": {
      "text/plain": [
       "Index(['Case Number', 'Date', 'Year', 'Type', 'Country', 'Area', 'Location',\n",
       "       'Activity', 'Name', 'Sex', 'Age', 'Injury', 'Fatal (Y/N)', 'Time',\n",
       "       'Species', 'Investigator or Source', 'pdf', 'href formula', 'href',\n",
       "       'Case Number.1', 'Case Number.2', 'original order', 'Unnamed: 22',\n",
       "       'Unnamed: 23'],\n",
       "      dtype='object')"
      ]
     },
     "execution_count": 9,
     "metadata": {},
     "output_type": "execute_result"
    }
   ],
   "source": [
    "data.columns"
   ]
  },
  {
   "cell_type": "markdown",
   "id": "a75d3579",
   "metadata": {},
   "source": [
    "### Make names lower case"
   ]
  },
  {
   "cell_type": "code",
   "execution_count": 10,
   "id": "3d771466",
   "metadata": {},
   "outputs": [],
   "source": [
    "for c in data.columns:\n",
    "    new_name = c.lower()  # make string lower case\n",
    "    data = data.rename(columns={c: new_name})"
   ]
  },
  {
   "cell_type": "code",
   "execution_count": 11,
   "id": "7205c907",
   "metadata": {},
   "outputs": [
    {
     "data": {
      "text/plain": [
       "Index(['case number', 'date', 'year', 'type', 'country', 'area', 'location',\n",
       "       'activity', 'name', 'sex', 'age', 'injury', 'fatal (y/n)', 'time',\n",
       "       'species', 'investigator or source', 'pdf', 'href formula', 'href',\n",
       "       'case number.1', 'case number.2', 'original order', 'unnamed: 22',\n",
       "       'unnamed: 23'],\n",
       "      dtype='object')"
      ]
     },
     "execution_count": 11,
     "metadata": {},
     "output_type": "execute_result"
    }
   ],
   "source": [
    "data.columns"
   ]
  },
  {
   "cell_type": "markdown",
   "id": "bbfaeeab",
   "metadata": {},
   "source": [
    "### Make names snake case"
   ]
  },
  {
   "cell_type": "code",
   "execution_count": 12,
   "id": "462c8de4",
   "metadata": {},
   "outputs": [],
   "source": [
    "for c in data.columns:\n",
    "    new_name = c.replace(' ', '_')  # make column lower case\n",
    "    data = data.rename(columns={c: new_name})"
   ]
  },
  {
   "cell_type": "code",
   "execution_count": 13,
   "id": "7880712b",
   "metadata": {},
   "outputs": [
    {
     "data": {
      "text/plain": [
       "Index(['case_number', 'date', 'year', 'type', 'country', 'area', 'location',\n",
       "       'activity', 'name', 'sex', 'age', 'injury', 'fatal_(y/n)', 'time',\n",
       "       'species', 'investigator_or_source', 'pdf', 'href_formula', 'href',\n",
       "       'case_number.1', 'case_number.2', 'original_order', 'unnamed:_22',\n",
       "       'unnamed:_23'],\n",
       "      dtype='object')"
      ]
     },
     "execution_count": 13,
     "metadata": {},
     "output_type": "execute_result"
    }
   ],
   "source": [
    "data.columns"
   ]
  },
  {
   "cell_type": "markdown",
   "id": "f7dab41e",
   "metadata": {},
   "source": [
    "### Remove special characters from names "
   ]
  },
  {
   "cell_type": "code",
   "execution_count": 14,
   "id": "b7ad31f8",
   "metadata": {},
   "outputs": [],
   "source": [
    "for c in data.columns:\n",
    "    new_name = c.replace('.', '_')  # remove dots from column names\n",
    "    data = data.rename(columns={c: new_name})"
   ]
  },
  {
   "cell_type": "code",
   "execution_count": 15,
   "id": "0a871746",
   "metadata": {},
   "outputs": [
    {
     "data": {
      "text/plain": [
       "Index(['case_number', 'date', 'year', 'type', 'country', 'area', 'location',\n",
       "       'activity', 'name', 'sex', 'age', 'injury', 'fatal_(y/n)', 'time',\n",
       "       'species', 'investigator_or_source', 'pdf', 'href_formula', 'href',\n",
       "       'case_number_1', 'case_number_2', 'original_order', 'unnamed:_22',\n",
       "       'unnamed:_23'],\n",
       "      dtype='object')"
      ]
     },
     "execution_count": 15,
     "metadata": {},
     "output_type": "execute_result"
    }
   ],
   "source": [
    "data.columns"
   ]
  },
  {
   "cell_type": "code",
   "execution_count": 16,
   "id": "4fec7637",
   "metadata": {},
   "outputs": [],
   "source": [
    "for c in data.columns:\n",
    "    new_name = c.replace(':', '')  # remove \":\" from column names \n",
    "    data = data.rename(columns={c: new_name})"
   ]
  },
  {
   "cell_type": "code",
   "execution_count": 17,
   "id": "08ee1e00",
   "metadata": {},
   "outputs": [
    {
     "data": {
      "text/plain": [
       "Index(['case_number', 'date', 'year', 'type', 'country', 'area', 'location',\n",
       "       'activity', 'name', 'sex', 'age', 'injury', 'fatal_(y/n)', 'time',\n",
       "       'species', 'investigator_or_source', 'pdf', 'href_formula', 'href',\n",
       "       'case_number_1', 'case_number_2', 'original_order', 'unnamed_22',\n",
       "       'unnamed_23'],\n",
       "      dtype='object')"
      ]
     },
     "execution_count": 17,
     "metadata": {},
     "output_type": "execute_result"
    }
   ],
   "source": [
    "data.columns"
   ]
  },
  {
   "cell_type": "code",
   "execution_count": 18,
   "id": "7ebe2f8a",
   "metadata": {},
   "outputs": [],
   "source": [
    "data=data.rename(columns={'unnamed_22':'unnamed_1', 'unnamed_23':'unnamed_2'})"
   ]
  },
  {
   "cell_type": "markdown",
   "id": "3f61aad6",
   "metadata": {},
   "source": [
    "## Remove duplicate rows"
   ]
  },
  {
   "cell_type": "code",
   "execution_count": 19,
   "id": "02e7ecfd",
   "metadata": {},
   "outputs": [
    {
     "data": {
      "text/plain": [
       "19411"
      ]
     },
     "execution_count": 19,
     "metadata": {},
     "output_type": "execute_result"
    }
   ],
   "source": [
    "num_duplicates = data.duplicated().sum()\n",
    "num_duplicates"
   ]
  },
  {
   "cell_type": "code",
   "execution_count": 20,
   "id": "4a037ca2",
   "metadata": {},
   "outputs": [
    {
     "data": {
      "text/plain": [
       "(6312, 24)"
      ]
     },
     "execution_count": 20,
     "metadata": {},
     "output_type": "execute_result"
    }
   ],
   "source": [
    "# Elimination of the duplicated rows\n",
    "\n",
    "data = data.drop_duplicates()\n",
    "data.shape"
   ]
  },
  {
   "cell_type": "code",
   "execution_count": 21,
   "id": "b39a7f7e",
   "metadata": {},
   "outputs": [
    {
     "data": {
      "text/html": [
       "<div>\n",
       "<style scoped>\n",
       "    .dataframe tbody tr th:only-of-type {\n",
       "        vertical-align: middle;\n",
       "    }\n",
       "\n",
       "    .dataframe tbody tr th {\n",
       "        vertical-align: top;\n",
       "    }\n",
       "\n",
       "    .dataframe thead th {\n",
       "        text-align: right;\n",
       "    }\n",
       "</style>\n",
       "<table border=\"1\" class=\"dataframe\">\n",
       "  <thead>\n",
       "    <tr style=\"text-align: right;\">\n",
       "      <th></th>\n",
       "      <th>case_number</th>\n",
       "      <th>date</th>\n",
       "      <th>year</th>\n",
       "      <th>type</th>\n",
       "      <th>country</th>\n",
       "      <th>area</th>\n",
       "      <th>location</th>\n",
       "      <th>activity</th>\n",
       "      <th>name</th>\n",
       "      <th>sex</th>\n",
       "      <th>age</th>\n",
       "      <th>injury</th>\n",
       "      <th>fatal_(y/n)</th>\n",
       "      <th>time</th>\n",
       "      <th>species</th>\n",
       "      <th>investigator_or_source</th>\n",
       "      <th>pdf</th>\n",
       "      <th>href_formula</th>\n",
       "      <th>href</th>\n",
       "      <th>case_number_1</th>\n",
       "      <th>case_number_2</th>\n",
       "      <th>original_order</th>\n",
       "      <th>unnamed_1</th>\n",
       "      <th>unnamed_2</th>\n",
       "    </tr>\n",
       "  </thead>\n",
       "  <tbody>\n",
       "    <tr>\n",
       "      <th>0</th>\n",
       "      <td>2018.06.25</td>\n",
       "      <td>25-Jun-2018</td>\n",
       "      <td>2018.0</td>\n",
       "      <td>Boating</td>\n",
       "      <td>USA</td>\n",
       "      <td>California</td>\n",
       "      <td>Oceanside, San Diego County</td>\n",
       "      <td>Paddling</td>\n",
       "      <td>Julie Wolfe</td>\n",
       "      <td>F</td>\n",
       "      <td>57</td>\n",
       "      <td>No injury to occupant, outrigger canoe and pad...</td>\n",
       "      <td>N</td>\n",
       "      <td>18h00</td>\n",
       "      <td>White shark</td>\n",
       "      <td>R. Collier, GSAF</td>\n",
       "      <td>2018.06.25-Wolfe.pdf</td>\n",
       "      <td>http://sharkattackfile.net/spreadsheets/pdf_di...</td>\n",
       "      <td>http://sharkattackfile.net/spreadsheets/pdf_di...</td>\n",
       "      <td>2018.06.25</td>\n",
       "      <td>2018.06.25</td>\n",
       "      <td>6303.0</td>\n",
       "      <td>NaN</td>\n",
       "      <td>NaN</td>\n",
       "    </tr>\n",
       "    <tr>\n",
       "      <th>1</th>\n",
       "      <td>2018.06.18</td>\n",
       "      <td>18-Jun-2018</td>\n",
       "      <td>2018.0</td>\n",
       "      <td>Unprovoked</td>\n",
       "      <td>USA</td>\n",
       "      <td>Georgia</td>\n",
       "      <td>St. Simon Island, Glynn County</td>\n",
       "      <td>Standing</td>\n",
       "      <td>Adyson McNeely</td>\n",
       "      <td>F</td>\n",
       "      <td>11</td>\n",
       "      <td>Minor injury to left thigh</td>\n",
       "      <td>N</td>\n",
       "      <td>14h00  -15h00</td>\n",
       "      <td>NaN</td>\n",
       "      <td>K.McMurray, TrackingSharks.com</td>\n",
       "      <td>2018.06.18-McNeely.pdf</td>\n",
       "      <td>http://sharkattackfile.net/spreadsheets/pdf_di...</td>\n",
       "      <td>http://sharkattackfile.net/spreadsheets/pdf_di...</td>\n",
       "      <td>2018.06.18</td>\n",
       "      <td>2018.06.18</td>\n",
       "      <td>6302.0</td>\n",
       "      <td>NaN</td>\n",
       "      <td>NaN</td>\n",
       "    </tr>\n",
       "  </tbody>\n",
       "</table>\n",
       "</div>"
      ],
      "text/plain": [
       "  case_number         date    year        type country        area  \\\n",
       "0  2018.06.25  25-Jun-2018  2018.0     Boating     USA  California   \n",
       "1  2018.06.18  18-Jun-2018  2018.0  Unprovoked     USA     Georgia   \n",
       "\n",
       "                         location  activity             name sex age  \\\n",
       "0     Oceanside, San Diego County  Paddling      Julie Wolfe   F  57   \n",
       "1  St. Simon Island, Glynn County  Standing  Adyson McNeely    F  11   \n",
       "\n",
       "                                              injury fatal_(y/n)  \\\n",
       "0  No injury to occupant, outrigger canoe and pad...           N   \n",
       "1                         Minor injury to left thigh           N   \n",
       "\n",
       "            time      species          investigator_or_source  \\\n",
       "0          18h00  White shark                R. Collier, GSAF   \n",
       "1  14h00  -15h00          NaN  K.McMurray, TrackingSharks.com   \n",
       "\n",
       "                      pdf                                       href_formula  \\\n",
       "0    2018.06.25-Wolfe.pdf  http://sharkattackfile.net/spreadsheets/pdf_di...   \n",
       "1  2018.06.18-McNeely.pdf  http://sharkattackfile.net/spreadsheets/pdf_di...   \n",
       "\n",
       "                                                href case_number_1  \\\n",
       "0  http://sharkattackfile.net/spreadsheets/pdf_di...    2018.06.25   \n",
       "1  http://sharkattackfile.net/spreadsheets/pdf_di...    2018.06.18   \n",
       "\n",
       "  case_number_2  original_order unnamed_1 unnamed_2  \n",
       "0    2018.06.25          6303.0       NaN       NaN  \n",
       "1    2018.06.18          6302.0       NaN       NaN  "
      ]
     },
     "execution_count": 21,
     "metadata": {},
     "output_type": "execute_result"
    }
   ],
   "source": [
    "data.head(2)"
   ]
  },
  {
   "cell_type": "markdown",
   "id": "3e0560ce",
   "metadata": {},
   "source": [
    "## Removing or filling missing values"
   ]
  },
  {
   "cell_type": "markdown",
   "id": "50b0de62",
   "metadata": {},
   "source": [
    "### Columns"
   ]
  },
  {
   "cell_type": "markdown",
   "id": "7f97b150",
   "metadata": {},
   "source": [
    "One of the guidelines for this data cleaning project is to not remove any columns. Despite this, we want to inspect the percentage of null values in our columns. "
   ]
  },
  {
   "cell_type": "code",
   "execution_count": 22,
   "id": "300b1075",
   "metadata": {},
   "outputs": [
    {
     "data": {
      "text/plain": [
       "unnamed_1                 99.984157\n",
       "unnamed_2                 99.968314\n",
       "time                      53.295311\n",
       "species                   45.120406\n",
       "age                       45.009506\n",
       "sex                        9.109632\n",
       "activity                   8.776933\n",
       "location                   8.713561\n",
       "fatal_(y/n)                8.697719\n",
       "area                       7.366920\n",
       "name                       3.485425\n",
       "country                    0.950570\n",
       "injury                     0.602028\n",
       "investigator_or_source     0.427757\n",
       "type                       0.221800\n",
       "year                       0.190114\n",
       "href_formula               0.174271\n",
       "date                       0.158428\n",
       "pdf                        0.158428\n",
       "href                       0.158428\n",
       "case_number_1              0.158428\n",
       "case_number_2              0.158428\n",
       "original_order             0.047529\n",
       "case_number                0.031686\n",
       "dtype: float64"
      ]
     },
     "execution_count": 22,
     "metadata": {},
     "output_type": "execute_result"
    }
   ],
   "source": [
    "# Calculate percentage of null values in each column\n",
    "\n",
    "nan_cols = data.isna().mean()*100  \n",
    "\n",
    "sorted_na_cols=nan_cols[nan_cols>0].sort_values(ascending=False)\n",
    "sorted_na_cols"
   ]
  },
  {
   "cell_type": "code",
   "execution_count": 23,
   "id": "7e67af61",
   "metadata": {},
   "outputs": [
    {
     "data": {
      "text/plain": [
       "16.0"
      ]
     },
     "execution_count": 23,
     "metadata": {},
     "output_type": "execute_result"
    }
   ],
   "source": [
    "# Calculate the total percentage of null values in the dataset\n",
    "\n",
    "round(nan_cols.mean(),0)"
   ]
  },
  {
   "cell_type": "markdown",
   "id": "392fbec5",
   "metadata": {},
   "source": [
    "### Rows\n",
    "\n",
    "The guidelines for this project allow us to drop how many rows that we'd like. "
   ]
  },
  {
   "cell_type": "code",
   "execution_count": 24,
   "id": "abbf7fc3",
   "metadata": {},
   "outputs": [
    {
     "data": {
      "text/plain": [
       "1"
      ]
     },
     "execution_count": 24,
     "metadata": {},
     "output_type": "execute_result"
    }
   ],
   "source": [
    "# Check the number of rows with 100% of null values\n",
    "\n",
    "null_rows_count = data.isna().all(axis=1).sum()\n",
    "null_rows_count"
   ]
  },
  {
   "cell_type": "code",
   "execution_count": 25,
   "id": "94e6c21a",
   "metadata": {},
   "outputs": [
    {
     "data": {
      "text/plain": [
       "0.015842839036755384"
      ]
     },
     "execution_count": 25,
     "metadata": {},
     "output_type": "execute_result"
    }
   ],
   "source": [
    "# Check the percentage of rows with 100% of null values\n",
    "\n",
    "null_rows_count_percentage = (null_rows_count/data.shape[0])*100\n",
    "null_rows_count_percentage"
   ]
  },
  {
   "cell_type": "markdown",
   "id": "f0617535",
   "metadata": {},
   "source": [
    "## Remove rows with 100% of null values"
   ]
  },
  {
   "cell_type": "code",
   "execution_count": 26,
   "id": "66c9f79e",
   "metadata": {},
   "outputs": [],
   "source": [
    "# Remove rows where all values are NA\n",
    "\n",
    "data = data.dropna(how=\"all\")"
   ]
  },
  {
   "cell_type": "code",
   "execution_count": 27,
   "id": "f218f188",
   "metadata": {},
   "outputs": [
    {
     "data": {
      "text/plain": [
       "(6311, 24)"
      ]
     },
     "execution_count": 27,
     "metadata": {},
     "output_type": "execute_result"
    }
   ],
   "source": [
    "data.shape"
   ]
  },
  {
   "cell_type": "markdown",
   "id": "a632b4ba",
   "metadata": {},
   "source": [
    "## Remove rows with at least 80% of null values\n"
   ]
  },
  {
   "cell_type": "code",
   "execution_count": 28,
   "id": "4de423bc",
   "metadata": {},
   "outputs": [],
   "source": [
    "data = data.dropna(thresh=0.2*len(data.columns))"
   ]
  },
  {
   "cell_type": "code",
   "execution_count": 29,
   "id": "e194fdd2",
   "metadata": {},
   "outputs": [
    {
     "data": {
      "text/plain": [
       "(6302, 24)"
      ]
     },
     "execution_count": 29,
     "metadata": {},
     "output_type": "execute_result"
    }
   ],
   "source": [
    "data.shape"
   ]
  },
  {
   "cell_type": "markdown",
   "id": "016c2926",
   "metadata": {},
   "source": [
    "We've removed rows with over 80% null values. Before removing any additional rows because of missing values, we will try to fill those values using different techniques, such extrapolating information from another column, using the most common value in the dataset, adding an \"Unknown\" label, etc.\n",
    "\n",
    "In addition, we will try to clean, transform and standardize values as much as possible across the dataset.\n",
    "\n",
    "Let's have another look at the columns with the highest % of null values."
   ]
  },
  {
   "cell_type": "code",
   "execution_count": 30,
   "id": "dade8877",
   "metadata": {
    "scrolled": false
   },
   "outputs": [
    {
     "data": {
      "text/plain": [
       "unnamed_1                 99.984132\n",
       "unnamed_2                 99.968264\n",
       "time                      53.221200\n",
       "species                   45.033323\n",
       "age                       44.922247\n",
       "sex                        8.965408\n",
       "activity                   8.632180\n",
       "location                   8.568708\n",
       "fatal_(y/n)                8.552840\n",
       "area                       7.219930\n",
       "name                       3.332275\n",
       "country                    0.793399\n",
       "injury                     0.444303\n",
       "investigator_or_source     0.269756\n",
       "type                       0.063472\n",
       "year                       0.031736\n",
       "href_formula               0.015868\n",
       "case_number                0.015868\n",
       "dtype: float64"
      ]
     },
     "execution_count": 30,
     "metadata": {},
     "output_type": "execute_result"
    }
   ],
   "source": [
    "nan_cols = data.isna().mean()*100  \n",
    "\n",
    "sorted_na_cols_v1=nan_cols[nan_cols>0].sort_values(ascending=False)\n",
    "sorted_na_cols_v1"
   ]
  },
  {
   "cell_type": "markdown",
   "id": "66bb0cca",
   "metadata": {},
   "source": [
    "### `unnamed_1` and `unnamed_2` columns"
   ]
  },
  {
   "cell_type": "code",
   "execution_count": 31,
   "id": "588633bc",
   "metadata": {},
   "outputs": [
    {
     "data": {
      "text/html": [
       "<div>\n",
       "<style scoped>\n",
       "    .dataframe tbody tr th:only-of-type {\n",
       "        vertical-align: middle;\n",
       "    }\n",
       "\n",
       "    .dataframe tbody tr th {\n",
       "        vertical-align: top;\n",
       "    }\n",
       "\n",
       "    .dataframe thead th {\n",
       "        text-align: right;\n",
       "    }\n",
       "</style>\n",
       "<table border=\"1\" class=\"dataframe\">\n",
       "  <thead>\n",
       "    <tr style=\"text-align: right;\">\n",
       "      <th></th>\n",
       "      <th>case_number</th>\n",
       "      <th>date</th>\n",
       "      <th>year</th>\n",
       "      <th>type</th>\n",
       "      <th>country</th>\n",
       "      <th>area</th>\n",
       "      <th>location</th>\n",
       "      <th>activity</th>\n",
       "      <th>name</th>\n",
       "      <th>sex</th>\n",
       "      <th>age</th>\n",
       "      <th>injury</th>\n",
       "      <th>fatal_(y/n)</th>\n",
       "      <th>time</th>\n",
       "      <th>species</th>\n",
       "      <th>investigator_or_source</th>\n",
       "      <th>pdf</th>\n",
       "      <th>href_formula</th>\n",
       "      <th>href</th>\n",
       "      <th>case_number_1</th>\n",
       "      <th>case_number_2</th>\n",
       "      <th>original_order</th>\n",
       "      <th>unnamed_1</th>\n",
       "      <th>unnamed_2</th>\n",
       "    </tr>\n",
       "  </thead>\n",
       "  <tbody>\n",
       "    <tr>\n",
       "      <th>1478</th>\n",
       "      <td>2006.05.27</td>\n",
       "      <td>27-May-2006</td>\n",
       "      <td>2006.0</td>\n",
       "      <td>Unprovoked</td>\n",
       "      <td>USA</td>\n",
       "      <td>Hawaii</td>\n",
       "      <td>North Shore, O'ahu</td>\n",
       "      <td>Surfing</td>\n",
       "      <td>Bret Desmond</td>\n",
       "      <td>M</td>\n",
       "      <td>31</td>\n",
       "      <td>No injury, shark bumped surfboard</td>\n",
       "      <td>N</td>\n",
       "      <td>16h00</td>\n",
       "      <td>NaN</td>\n",
       "      <td>R. Collier</td>\n",
       "      <td>2006.05.27-Desmond.pdf</td>\n",
       "      <td>http://sharkattackfile.net/spreadsheets/pdf_di...</td>\n",
       "      <td>http://sharkattackfile.net/spreadsheets/pdf_di...</td>\n",
       "      <td>2006.05.27</td>\n",
       "      <td>2006.05.27</td>\n",
       "      <td>4825.0</td>\n",
       "      <td>stopped here</td>\n",
       "      <td>NaN</td>\n",
       "    </tr>\n",
       "  </tbody>\n",
       "</table>\n",
       "</div>"
      ],
      "text/plain": [
       "     case_number         date    year        type country    area  \\\n",
       "1478  2006.05.27  27-May-2006  2006.0  Unprovoked     USA  Hawaii   \n",
       "\n",
       "                location activity          name sex age  \\\n",
       "1478  North Shore, O'ahu  Surfing  Bret Desmond   M  31   \n",
       "\n",
       "                                 injury fatal_(y/n)   time species  \\\n",
       "1478  No injury, shark bumped surfboard           N  16h00     NaN   \n",
       "\n",
       "     investigator_or_source                     pdf  \\\n",
       "1478             R. Collier  2006.05.27-Desmond.pdf   \n",
       "\n",
       "                                           href_formula  \\\n",
       "1478  http://sharkattackfile.net/spreadsheets/pdf_di...   \n",
       "\n",
       "                                                   href case_number_1  \\\n",
       "1478  http://sharkattackfile.net/spreadsheets/pdf_di...    2006.05.27   \n",
       "\n",
       "     case_number_2  original_order     unnamed_1 unnamed_2  \n",
       "1478    2006.05.27          4825.0  stopped here       NaN  "
      ]
     },
     "execution_count": 31,
     "metadata": {},
     "output_type": "execute_result"
    }
   ],
   "source": [
    "data[data[\"unnamed_1\"].isna()==False]"
   ]
  },
  {
   "cell_type": "code",
   "execution_count": 32,
   "id": "6cd6db7e",
   "metadata": {
    "scrolled": true
   },
   "outputs": [
    {
     "data": {
      "text/html": [
       "<div>\n",
       "<style scoped>\n",
       "    .dataframe tbody tr th:only-of-type {\n",
       "        vertical-align: middle;\n",
       "    }\n",
       "\n",
       "    .dataframe tbody tr th {\n",
       "        vertical-align: top;\n",
       "    }\n",
       "\n",
       "    .dataframe thead th {\n",
       "        text-align: right;\n",
       "    }\n",
       "</style>\n",
       "<table border=\"1\" class=\"dataframe\">\n",
       "  <thead>\n",
       "    <tr style=\"text-align: right;\">\n",
       "      <th></th>\n",
       "      <th>case_number</th>\n",
       "      <th>date</th>\n",
       "      <th>year</th>\n",
       "      <th>type</th>\n",
       "      <th>country</th>\n",
       "      <th>area</th>\n",
       "      <th>location</th>\n",
       "      <th>activity</th>\n",
       "      <th>name</th>\n",
       "      <th>sex</th>\n",
       "      <th>age</th>\n",
       "      <th>injury</th>\n",
       "      <th>fatal_(y/n)</th>\n",
       "      <th>time</th>\n",
       "      <th>species</th>\n",
       "      <th>investigator_or_source</th>\n",
       "      <th>pdf</th>\n",
       "      <th>href_formula</th>\n",
       "      <th>href</th>\n",
       "      <th>case_number_1</th>\n",
       "      <th>case_number_2</th>\n",
       "      <th>original_order</th>\n",
       "      <th>unnamed_1</th>\n",
       "      <th>unnamed_2</th>\n",
       "    </tr>\n",
       "  </thead>\n",
       "  <tbody>\n",
       "    <tr>\n",
       "      <th>4415</th>\n",
       "      <td>1952.03.30</td>\n",
       "      <td>30-Mar-1952</td>\n",
       "      <td>1952.0</td>\n",
       "      <td>Unprovoked</td>\n",
       "      <td>NETHERLANDS ANTILLES</td>\n",
       "      <td>Curacao</td>\n",
       "      <td>NaN</td>\n",
       "      <td>Went to aid of child being menaced by the shark</td>\n",
       "      <td>A.J. Eggink</td>\n",
       "      <td>M</td>\n",
       "      <td>NaN</td>\n",
       "      <td>Buttock bitten, tissue removed</td>\n",
       "      <td>N</td>\n",
       "      <td>NaN</td>\n",
       "      <td>Bull shark, 2.7 m [9'] was captured &amp; dragged ...</td>\n",
       "      <td>J. Randall, p.352 in Sharks &amp; Survival; H.D. B...</td>\n",
       "      <td>1952.03.30-Eggink.pdf</td>\n",
       "      <td>http://sharkattackfile.net/spreadsheets/pdf_di...</td>\n",
       "      <td>http://sharkattackfile.net/spreadsheets/pdf_di...</td>\n",
       "      <td>1952.03.30</td>\n",
       "      <td>1952.03.30</td>\n",
       "      <td>1888.0</td>\n",
       "      <td>NaN</td>\n",
       "      <td>Teramo</td>\n",
       "    </tr>\n",
       "    <tr>\n",
       "      <th>5840</th>\n",
       "      <td>1878.09.14.R</td>\n",
       "      <td>Reported 14-Sep-1878</td>\n",
       "      <td>1878.0</td>\n",
       "      <td>Provoked</td>\n",
       "      <td>USA</td>\n",
       "      <td>Connecticut</td>\n",
       "      <td>Branford, New Haven County</td>\n",
       "      <td>Fishing</td>\n",
       "      <td>Captain Pattison</td>\n",
       "      <td>M</td>\n",
       "      <td>NaN</td>\n",
       "      <td>Leg bitten by netted shark PROVOKED INCIDENT</td>\n",
       "      <td>N</td>\n",
       "      <td>NaN</td>\n",
       "      <td>NaN</td>\n",
       "      <td>St. Joseph Herald, 9/14/1878</td>\n",
       "      <td>1878.09.14.R-Pattison.pdf</td>\n",
       "      <td>http://sharkattackfile.net/spreadsheets/pdf_di...</td>\n",
       "      <td>http://sharkattackfile.net/spreadsheets/pdf_di...</td>\n",
       "      <td>1878.09.14.R</td>\n",
       "      <td>1878.09.14.R</td>\n",
       "      <td>463.0</td>\n",
       "      <td>NaN</td>\n",
       "      <td>change filename</td>\n",
       "    </tr>\n",
       "  </tbody>\n",
       "</table>\n",
       "</div>"
      ],
      "text/plain": [
       "       case_number                  date    year        type  \\\n",
       "4415    1952.03.30           30-Mar-1952  1952.0  Unprovoked   \n",
       "5840  1878.09.14.R  Reported 14-Sep-1878  1878.0    Provoked   \n",
       "\n",
       "                   country         area                    location  \\\n",
       "4415  NETHERLANDS ANTILLES      Curacao                         NaN   \n",
       "5840                   USA  Connecticut  Branford, New Haven County   \n",
       "\n",
       "                                             activity              name sex  \\\n",
       "4415  Went to aid of child being menaced by the shark       A.J. Eggink   M   \n",
       "5840                                          Fishing  Captain Pattison   M   \n",
       "\n",
       "      age                                        injury fatal_(y/n) time  \\\n",
       "4415  NaN                Buttock bitten, tissue removed           N  NaN   \n",
       "5840  NaN  Leg bitten by netted shark PROVOKED INCIDENT           N  NaN   \n",
       "\n",
       "                                                species  \\\n",
       "4415  Bull shark, 2.7 m [9'] was captured & dragged ...   \n",
       "5840                                                NaN   \n",
       "\n",
       "                                 investigator_or_source  \\\n",
       "4415  J. Randall, p.352 in Sharks & Survival; H.D. B...   \n",
       "5840                       St. Joseph Herald, 9/14/1878   \n",
       "\n",
       "                            pdf  \\\n",
       "4415      1952.03.30-Eggink.pdf   \n",
       "5840  1878.09.14.R-Pattison.pdf   \n",
       "\n",
       "                                           href_formula  \\\n",
       "4415  http://sharkattackfile.net/spreadsheets/pdf_di...   \n",
       "5840  http://sharkattackfile.net/spreadsheets/pdf_di...   \n",
       "\n",
       "                                                   href case_number_1  \\\n",
       "4415  http://sharkattackfile.net/spreadsheets/pdf_di...    1952.03.30   \n",
       "5840  http://sharkattackfile.net/spreadsheets/pdf_di...  1878.09.14.R   \n",
       "\n",
       "     case_number_2  original_order unnamed_1        unnamed_2  \n",
       "4415    1952.03.30          1888.0       NaN           Teramo  \n",
       "5840  1878.09.14.R           463.0       NaN  change filename  "
      ]
     },
     "execution_count": 32,
     "metadata": {},
     "output_type": "execute_result"
    }
   ],
   "source": [
    "data[data[\"unnamed_2\"].isna()==False]"
   ]
  },
  {
   "cell_type": "markdown",
   "id": "1b5f849d",
   "metadata": {},
   "source": [
    "Previously, we determined that columns `unnamed_1` and `unnamed_2` are mostly fill with null values. In addition, we have confirmed that the non null values contain non valuable information. Since we cannnot delete these columns, we will assign 0 to every row."
   ]
  },
  {
   "cell_type": "code",
   "execution_count": 33,
   "id": "d9046fe0",
   "metadata": {},
   "outputs": [
    {
     "name": "stdout",
     "output_type": "stream",
     "text": [
      "<class 'pandas.core.frame.DataFrame'>\n",
      "Int64Index: 6302 entries, 0 to 6301\n",
      "Data columns (total 24 columns):\n",
      " #   Column                  Non-Null Count  Dtype  \n",
      "---  ------                  --------------  -----  \n",
      " 0   case_number             6301 non-null   object \n",
      " 1   date                    6302 non-null   object \n",
      " 2   year                    6300 non-null   float64\n",
      " 3   type                    6298 non-null   object \n",
      " 4   country                 6252 non-null   object \n",
      " 5   area                    5847 non-null   object \n",
      " 6   location                5762 non-null   object \n",
      " 7   activity                5758 non-null   object \n",
      " 8   name                    6092 non-null   object \n",
      " 9   sex                     5737 non-null   object \n",
      " 10  age                     3471 non-null   object \n",
      " 11  injury                  6274 non-null   object \n",
      " 12  fatal_(y/n)             5763 non-null   object \n",
      " 13  time                    2948 non-null   object \n",
      " 14  species                 3464 non-null   object \n",
      " 15  investigator_or_source  6285 non-null   object \n",
      " 16  pdf                     6302 non-null   object \n",
      " 17  href_formula            6301 non-null   object \n",
      " 18  href                    6302 non-null   object \n",
      " 19  case_number_1           6302 non-null   object \n",
      " 20  case_number_2           6302 non-null   object \n",
      " 21  original_order          6302 non-null   float64\n",
      " 22  unnamed_1               6302 non-null   int64  \n",
      " 23  unnamed_2               6302 non-null   int64  \n",
      "dtypes: float64(2), int64(2), object(20)\n",
      "memory usage: 1.2+ MB\n"
     ]
    }
   ],
   "source": [
    "data[\"unnamed_1\"]=0\n",
    "data[\"unnamed_2\"]=0\n",
    "data.info()"
   ]
  },
  {
   "cell_type": "code",
   "execution_count": 34,
   "id": "d5bd92e0",
   "metadata": {},
   "outputs": [
    {
     "data": {
      "text/html": [
       "<div>\n",
       "<style scoped>\n",
       "    .dataframe tbody tr th:only-of-type {\n",
       "        vertical-align: middle;\n",
       "    }\n",
       "\n",
       "    .dataframe tbody tr th {\n",
       "        vertical-align: top;\n",
       "    }\n",
       "\n",
       "    .dataframe thead th {\n",
       "        text-align: right;\n",
       "    }\n",
       "</style>\n",
       "<table border=\"1\" class=\"dataframe\">\n",
       "  <thead>\n",
       "    <tr style=\"text-align: right;\">\n",
       "      <th></th>\n",
       "      <th>case_number</th>\n",
       "      <th>date</th>\n",
       "      <th>year</th>\n",
       "      <th>type</th>\n",
       "      <th>country</th>\n",
       "      <th>area</th>\n",
       "      <th>location</th>\n",
       "      <th>activity</th>\n",
       "      <th>name</th>\n",
       "      <th>sex</th>\n",
       "      <th>age</th>\n",
       "      <th>injury</th>\n",
       "      <th>fatal_(y/n)</th>\n",
       "      <th>time</th>\n",
       "      <th>species</th>\n",
       "      <th>investigator_or_source</th>\n",
       "      <th>pdf</th>\n",
       "      <th>href_formula</th>\n",
       "      <th>href</th>\n",
       "      <th>case_number_1</th>\n",
       "      <th>case_number_2</th>\n",
       "      <th>original_order</th>\n",
       "      <th>unnamed_1</th>\n",
       "      <th>unnamed_2</th>\n",
       "    </tr>\n",
       "  </thead>\n",
       "  <tbody>\n",
       "    <tr>\n",
       "      <th>0</th>\n",
       "      <td>2018.06.25</td>\n",
       "      <td>25-Jun-2018</td>\n",
       "      <td>2018.0</td>\n",
       "      <td>Boating</td>\n",
       "      <td>USA</td>\n",
       "      <td>California</td>\n",
       "      <td>Oceanside, San Diego County</td>\n",
       "      <td>Paddling</td>\n",
       "      <td>Julie Wolfe</td>\n",
       "      <td>F</td>\n",
       "      <td>57</td>\n",
       "      <td>No injury to occupant, outrigger canoe and pad...</td>\n",
       "      <td>N</td>\n",
       "      <td>18h00</td>\n",
       "      <td>White shark</td>\n",
       "      <td>R. Collier, GSAF</td>\n",
       "      <td>2018.06.25-Wolfe.pdf</td>\n",
       "      <td>http://sharkattackfile.net/spreadsheets/pdf_di...</td>\n",
       "      <td>http://sharkattackfile.net/spreadsheets/pdf_di...</td>\n",
       "      <td>2018.06.25</td>\n",
       "      <td>2018.06.25</td>\n",
       "      <td>6303.0</td>\n",
       "      <td>0</td>\n",
       "      <td>0</td>\n",
       "    </tr>\n",
       "    <tr>\n",
       "      <th>1</th>\n",
       "      <td>2018.06.18</td>\n",
       "      <td>18-Jun-2018</td>\n",
       "      <td>2018.0</td>\n",
       "      <td>Unprovoked</td>\n",
       "      <td>USA</td>\n",
       "      <td>Georgia</td>\n",
       "      <td>St. Simon Island, Glynn County</td>\n",
       "      <td>Standing</td>\n",
       "      <td>Adyson McNeely</td>\n",
       "      <td>F</td>\n",
       "      <td>11</td>\n",
       "      <td>Minor injury to left thigh</td>\n",
       "      <td>N</td>\n",
       "      <td>14h00  -15h00</td>\n",
       "      <td>NaN</td>\n",
       "      <td>K.McMurray, TrackingSharks.com</td>\n",
       "      <td>2018.06.18-McNeely.pdf</td>\n",
       "      <td>http://sharkattackfile.net/spreadsheets/pdf_di...</td>\n",
       "      <td>http://sharkattackfile.net/spreadsheets/pdf_di...</td>\n",
       "      <td>2018.06.18</td>\n",
       "      <td>2018.06.18</td>\n",
       "      <td>6302.0</td>\n",
       "      <td>0</td>\n",
       "      <td>0</td>\n",
       "    </tr>\n",
       "    <tr>\n",
       "      <th>2</th>\n",
       "      <td>2018.06.09</td>\n",
       "      <td>09-Jun-2018</td>\n",
       "      <td>2018.0</td>\n",
       "      <td>Invalid</td>\n",
       "      <td>USA</td>\n",
       "      <td>Hawaii</td>\n",
       "      <td>Habush, Oahu</td>\n",
       "      <td>Surfing</td>\n",
       "      <td>John Denges</td>\n",
       "      <td>M</td>\n",
       "      <td>48</td>\n",
       "      <td>Injury to left lower leg from surfboard skeg</td>\n",
       "      <td>N</td>\n",
       "      <td>07h45</td>\n",
       "      <td>NaN</td>\n",
       "      <td>K.McMurray, TrackingSharks.com</td>\n",
       "      <td>2018.06.09-Denges.pdf</td>\n",
       "      <td>http://sharkattackfile.net/spreadsheets/pdf_di...</td>\n",
       "      <td>http://sharkattackfile.net/spreadsheets/pdf_di...</td>\n",
       "      <td>2018.06.09</td>\n",
       "      <td>2018.06.09</td>\n",
       "      <td>6301.0</td>\n",
       "      <td>0</td>\n",
       "      <td>0</td>\n",
       "    </tr>\n",
       "    <tr>\n",
       "      <th>3</th>\n",
       "      <td>2018.06.08</td>\n",
       "      <td>08-Jun-2018</td>\n",
       "      <td>2018.0</td>\n",
       "      <td>Unprovoked</td>\n",
       "      <td>AUSTRALIA</td>\n",
       "      <td>New South Wales</td>\n",
       "      <td>Arrawarra Headland</td>\n",
       "      <td>Surfing</td>\n",
       "      <td>male</td>\n",
       "      <td>M</td>\n",
       "      <td>NaN</td>\n",
       "      <td>Minor injury to lower leg</td>\n",
       "      <td>N</td>\n",
       "      <td>NaN</td>\n",
       "      <td>2 m shark</td>\n",
       "      <td>B. Myatt, GSAF</td>\n",
       "      <td>2018.06.08-Arrawarra.pdf</td>\n",
       "      <td>http://sharkattackfile.net/spreadsheets/pdf_di...</td>\n",
       "      <td>http://sharkattackfile.net/spreadsheets/pdf_di...</td>\n",
       "      <td>2018.06.08</td>\n",
       "      <td>2018.06.08</td>\n",
       "      <td>6300.0</td>\n",
       "      <td>0</td>\n",
       "      <td>0</td>\n",
       "    </tr>\n",
       "    <tr>\n",
       "      <th>4</th>\n",
       "      <td>2018.06.04</td>\n",
       "      <td>04-Jun-2018</td>\n",
       "      <td>2018.0</td>\n",
       "      <td>Provoked</td>\n",
       "      <td>MEXICO</td>\n",
       "      <td>Colima</td>\n",
       "      <td>La Ticla</td>\n",
       "      <td>Free diving</td>\n",
       "      <td>Gustavo Ramos</td>\n",
       "      <td>M</td>\n",
       "      <td>NaN</td>\n",
       "      <td>Lacerations to leg &amp; hand shark PROVOKED INCIDENT</td>\n",
       "      <td>N</td>\n",
       "      <td>NaN</td>\n",
       "      <td>Tiger shark, 3m</td>\n",
       "      <td>A .Kipper</td>\n",
       "      <td>2018.06.04-Ramos.pdf</td>\n",
       "      <td>http://sharkattackfile.net/spreadsheets/pdf_di...</td>\n",
       "      <td>http://sharkattackfile.net/spreadsheets/pdf_di...</td>\n",
       "      <td>2018.06.04</td>\n",
       "      <td>2018.06.04</td>\n",
       "      <td>6299.0</td>\n",
       "      <td>0</td>\n",
       "      <td>0</td>\n",
       "    </tr>\n",
       "  </tbody>\n",
       "</table>\n",
       "</div>"
      ],
      "text/plain": [
       "  case_number         date    year        type    country             area  \\\n",
       "0  2018.06.25  25-Jun-2018  2018.0     Boating        USA       California   \n",
       "1  2018.06.18  18-Jun-2018  2018.0  Unprovoked        USA          Georgia   \n",
       "2  2018.06.09  09-Jun-2018  2018.0     Invalid        USA           Hawaii   \n",
       "3  2018.06.08  08-Jun-2018  2018.0  Unprovoked  AUSTRALIA  New South Wales   \n",
       "4  2018.06.04  04-Jun-2018  2018.0    Provoked     MEXICO           Colima   \n",
       "\n",
       "                         location     activity             name sex  age  \\\n",
       "0     Oceanside, San Diego County     Paddling      Julie Wolfe   F   57   \n",
       "1  St. Simon Island, Glynn County     Standing  Adyson McNeely    F   11   \n",
       "2                    Habush, Oahu      Surfing      John Denges   M   48   \n",
       "3              Arrawarra Headland      Surfing             male   M  NaN   \n",
       "4                        La Ticla  Free diving   Gustavo Ramos    M  NaN   \n",
       "\n",
       "                                              injury fatal_(y/n)  \\\n",
       "0  No injury to occupant, outrigger canoe and pad...           N   \n",
       "1                         Minor injury to left thigh           N   \n",
       "2       Injury to left lower leg from surfboard skeg           N   \n",
       "3                          Minor injury to lower leg           N   \n",
       "4  Lacerations to leg & hand shark PROVOKED INCIDENT           N   \n",
       "\n",
       "            time          species          investigator_or_source  \\\n",
       "0          18h00      White shark                R. Collier, GSAF   \n",
       "1  14h00  -15h00              NaN  K.McMurray, TrackingSharks.com   \n",
       "2          07h45              NaN  K.McMurray, TrackingSharks.com   \n",
       "3            NaN        2 m shark                  B. Myatt, GSAF   \n",
       "4            NaN  Tiger shark, 3m                       A .Kipper   \n",
       "\n",
       "                        pdf  \\\n",
       "0      2018.06.25-Wolfe.pdf   \n",
       "1    2018.06.18-McNeely.pdf   \n",
       "2     2018.06.09-Denges.pdf   \n",
       "3  2018.06.08-Arrawarra.pdf   \n",
       "4      2018.06.04-Ramos.pdf   \n",
       "\n",
       "                                        href_formula  \\\n",
       "0  http://sharkattackfile.net/spreadsheets/pdf_di...   \n",
       "1  http://sharkattackfile.net/spreadsheets/pdf_di...   \n",
       "2  http://sharkattackfile.net/spreadsheets/pdf_di...   \n",
       "3  http://sharkattackfile.net/spreadsheets/pdf_di...   \n",
       "4  http://sharkattackfile.net/spreadsheets/pdf_di...   \n",
       "\n",
       "                                                href case_number_1  \\\n",
       "0  http://sharkattackfile.net/spreadsheets/pdf_di...    2018.06.25   \n",
       "1  http://sharkattackfile.net/spreadsheets/pdf_di...    2018.06.18   \n",
       "2  http://sharkattackfile.net/spreadsheets/pdf_di...    2018.06.09   \n",
       "3  http://sharkattackfile.net/spreadsheets/pdf_di...    2018.06.08   \n",
       "4  http://sharkattackfile.net/spreadsheets/pdf_di...    2018.06.04   \n",
       "\n",
       "  case_number_2  original_order  unnamed_1  unnamed_2  \n",
       "0    2018.06.25          6303.0          0          0  \n",
       "1    2018.06.18          6302.0          0          0  \n",
       "2    2018.06.09          6301.0          0          0  \n",
       "3    2018.06.08          6300.0          0          0  \n",
       "4    2018.06.04          6299.0          0          0  "
      ]
     },
     "execution_count": 34,
     "metadata": {},
     "output_type": "execute_result"
    }
   ],
   "source": [
    "data.head()"
   ]
  },
  {
   "cell_type": "markdown",
   "id": "cdd97e13",
   "metadata": {},
   "source": [
    "### `time` column\n",
    "\n",
    "The next column with the highest % of null values is `time`."
   ]
  },
  {
   "cell_type": "code",
   "execution_count": 35,
   "id": "3fcb435e",
   "metadata": {},
   "outputs": [
    {
     "data": {
      "text/plain": [
       "622         15h30\n",
       "1604        14h00\n",
       "790         13h30\n",
       "2931    Afternoon\n",
       "1786        14h20\n",
       "1668        11h00\n",
       "649         16h45\n",
       "3458        10h15\n",
       "5205       Midday\n",
       "2236        17h15\n",
       "5814    Afternoon\n",
       "228         14h00\n",
       "1410        14h00\n",
       "3679        Night\n",
       "998         19h00\n",
       "2191        14h45\n",
       "1491    Afternoon\n",
       "77        Morning\n",
       "4888        15h00\n",
       "3843        13h10\n",
       "Name: time, dtype: object"
      ]
     },
     "execution_count": 35,
     "metadata": {},
     "output_type": "execute_result"
    }
   ],
   "source": [
    "data[data['time'].notna()]['time'].sample(20)"
   ]
  },
  {
   "cell_type": "markdown",
   "id": "656a7261",
   "metadata": {},
   "source": [
    "In addition to the null values, the `time` column contains multiple formats, such as words like \"Afternoon\" and hours like \"12h00\". \n",
    "To start, we will fill the null values with a label of \"Unknown\"."
   ]
  },
  {
   "cell_type": "code",
   "execution_count": 36,
   "id": "4a282928",
   "metadata": {},
   "outputs": [],
   "source": [
    "data['time']=data['time'].fillna('Unknown')"
   ]
  },
  {
   "cell_type": "code",
   "execution_count": 37,
   "id": "0473b9e3",
   "metadata": {
    "scrolled": true
   },
   "outputs": [
    {
     "data": {
      "text/plain": [
       "Unknown      3354\n",
       "Afternoon     187\n",
       "11h00         128\n",
       "Morning       121\n",
       "12h00         109\n",
       "15h00         108\n",
       "16h00         101\n",
       "14h00          97\n",
       "16h30          74\n",
       "14h30          73\n",
       "Name: time, dtype: int64"
      ]
     },
     "execution_count": 37,
     "metadata": {},
     "output_type": "execute_result"
    }
   ],
   "source": [
    "data[\"time\"].value_counts().head(10)"
   ]
  },
  {
   "cell_type": "markdown",
   "id": "d53a8497",
   "metadata": {},
   "source": [
    "### Add new `time_label` column"
   ]
  },
  {
   "cell_type": "markdown",
   "id": "155ca202",
   "metadata": {},
   "source": [
    "After cleaning the data, our goal is to perform some exploratory analysis of this dataset. The time of the shark attack is a variable we are interested in, however, we've seen that the `time` column contains many different types of data and it is not suitable for reliable analysis. \n",
    "\n",
    "Therefore, we will generate a new column named `time_label`, which takes the `time` column, cleans it and transforms it into one of the following categories:\n",
    "- Morning: attacks that have occurred between 04h and 12h or `time` contains the word \"morning\"\n",
    "- Afternoon: attacks that have occurred between 12h and 20h or `time` contains the word \"afternoon\"\n",
    "- Night: attacks that have occurred between 20h and 04h or `time` contains  the word \"night\"\n",
    "- Unknown: previously null values and other inconsistent formats"
   ]
  },
  {
   "cell_type": "code",
   "execution_count": 38,
   "id": "b82f1592",
   "metadata": {},
   "outputs": [
    {
     "name": "stdout",
     "output_type": "stream",
     "text": [
      "There are 2306 rows with that time format\n"
     ]
    }
   ],
   "source": [
    "# Use regex to find the number of rows in the 'time' column that have the format \"hh'h'mm\"\n",
    "\n",
    "# define regex expression to find that format\n",
    "time_format_regex = r'^\\d{2}h\\d{2}$'\n",
    "\n",
    "# select rows that match the regex expression above\n",
    "hour_format = data[data['time'].str.match(time_format_regex)==True]\n",
    "print(f'There are {len(hour_format)} rows with that time format')"
   ]
  },
  {
   "cell_type": "code",
   "execution_count": 39,
   "id": "2a289627",
   "metadata": {},
   "outputs": [
    {
     "data": {
      "text/html": [
       "<div>\n",
       "<style scoped>\n",
       "    .dataframe tbody tr th:only-of-type {\n",
       "        vertical-align: middle;\n",
       "    }\n",
       "\n",
       "    .dataframe tbody tr th {\n",
       "        vertical-align: top;\n",
       "    }\n",
       "\n",
       "    .dataframe thead th {\n",
       "        text-align: right;\n",
       "    }\n",
       "</style>\n",
       "<table border=\"1\" class=\"dataframe\">\n",
       "  <thead>\n",
       "    <tr style=\"text-align: right;\">\n",
       "      <th></th>\n",
       "      <th>case_number</th>\n",
       "      <th>date</th>\n",
       "      <th>year</th>\n",
       "      <th>type</th>\n",
       "      <th>country</th>\n",
       "      <th>area</th>\n",
       "      <th>location</th>\n",
       "      <th>activity</th>\n",
       "      <th>name</th>\n",
       "      <th>sex</th>\n",
       "      <th>age</th>\n",
       "      <th>injury</th>\n",
       "      <th>fatal_(y/n)</th>\n",
       "      <th>time</th>\n",
       "      <th>species</th>\n",
       "      <th>investigator_or_source</th>\n",
       "      <th>pdf</th>\n",
       "      <th>href_formula</th>\n",
       "      <th>href</th>\n",
       "      <th>case_number_1</th>\n",
       "      <th>case_number_2</th>\n",
       "      <th>original_order</th>\n",
       "      <th>unnamed_1</th>\n",
       "      <th>unnamed_2</th>\n",
       "    </tr>\n",
       "  </thead>\n",
       "  <tbody>\n",
       "    <tr>\n",
       "      <th>0</th>\n",
       "      <td>2018.06.25</td>\n",
       "      <td>25-Jun-2018</td>\n",
       "      <td>2018.0</td>\n",
       "      <td>Boating</td>\n",
       "      <td>USA</td>\n",
       "      <td>California</td>\n",
       "      <td>Oceanside, San Diego County</td>\n",
       "      <td>Paddling</td>\n",
       "      <td>Julie Wolfe</td>\n",
       "      <td>F</td>\n",
       "      <td>57</td>\n",
       "      <td>No injury to occupant, outrigger canoe and pad...</td>\n",
       "      <td>N</td>\n",
       "      <td>18h00</td>\n",
       "      <td>White shark</td>\n",
       "      <td>R. Collier, GSAF</td>\n",
       "      <td>2018.06.25-Wolfe.pdf</td>\n",
       "      <td>http://sharkattackfile.net/spreadsheets/pdf_di...</td>\n",
       "      <td>http://sharkattackfile.net/spreadsheets/pdf_di...</td>\n",
       "      <td>2018.06.25</td>\n",
       "      <td>2018.06.25</td>\n",
       "      <td>6303.0</td>\n",
       "      <td>0</td>\n",
       "      <td>0</td>\n",
       "    </tr>\n",
       "    <tr>\n",
       "      <th>2</th>\n",
       "      <td>2018.06.09</td>\n",
       "      <td>09-Jun-2018</td>\n",
       "      <td>2018.0</td>\n",
       "      <td>Invalid</td>\n",
       "      <td>USA</td>\n",
       "      <td>Hawaii</td>\n",
       "      <td>Habush, Oahu</td>\n",
       "      <td>Surfing</td>\n",
       "      <td>John Denges</td>\n",
       "      <td>M</td>\n",
       "      <td>48</td>\n",
       "      <td>Injury to left lower leg from surfboard skeg</td>\n",
       "      <td>N</td>\n",
       "      <td>07h45</td>\n",
       "      <td>NaN</td>\n",
       "      <td>K.McMurray, TrackingSharks.com</td>\n",
       "      <td>2018.06.09-Denges.pdf</td>\n",
       "      <td>http://sharkattackfile.net/spreadsheets/pdf_di...</td>\n",
       "      <td>http://sharkattackfile.net/spreadsheets/pdf_di...</td>\n",
       "      <td>2018.06.09</td>\n",
       "      <td>2018.06.09</td>\n",
       "      <td>6301.0</td>\n",
       "      <td>0</td>\n",
       "      <td>0</td>\n",
       "    </tr>\n",
       "    <tr>\n",
       "      <th>8</th>\n",
       "      <td>2018.05.26.b</td>\n",
       "      <td>26-May-2018</td>\n",
       "      <td>2018.0</td>\n",
       "      <td>Unprovoked</td>\n",
       "      <td>USA</td>\n",
       "      <td>Florida</td>\n",
       "      <td>Cocoa Beach, Brevard  County</td>\n",
       "      <td>Walking</td>\n",
       "      <td>Cody High</td>\n",
       "      <td>M</td>\n",
       "      <td>15</td>\n",
       "      <td>Lower left leg bitten</td>\n",
       "      <td>N</td>\n",
       "      <td>17h00</td>\n",
       "      <td>Bull shark, 6'</td>\n",
       "      <td>K.McMurray, TrackingSharks.com</td>\n",
       "      <td>2018.05.26.b-High.pdf</td>\n",
       "      <td>http://sharkattackfile.net/spreadsheets/pdf_di...</td>\n",
       "      <td>http://sharkattackfile.net/spreadsheets/pdf_di...</td>\n",
       "      <td>2018.05.26.b</td>\n",
       "      <td>2018.05.26.b</td>\n",
       "      <td>6295.0</td>\n",
       "      <td>0</td>\n",
       "      <td>0</td>\n",
       "    </tr>\n",
       "    <tr>\n",
       "      <th>9</th>\n",
       "      <td>2018.05.26.a</td>\n",
       "      <td>26-May-2018</td>\n",
       "      <td>2018.0</td>\n",
       "      <td>Unprovoked</td>\n",
       "      <td>USA</td>\n",
       "      <td>Florida</td>\n",
       "      <td>Daytona Beach, Volusia County</td>\n",
       "      <td>Standing</td>\n",
       "      <td>male</td>\n",
       "      <td>M</td>\n",
       "      <td>12</td>\n",
       "      <td>Minor injury to foot</td>\n",
       "      <td>N</td>\n",
       "      <td>14h00</td>\n",
       "      <td>NaN</td>\n",
       "      <td>K. McMurray, Tracking Sharks.com</td>\n",
       "      <td>2018.05.26.a-DaytonaBeach.pdf</td>\n",
       "      <td>http://sharkattackfile.net/spreadsheets/pdf_di...</td>\n",
       "      <td>http://sharkattackfile.net/spreadsheets/pdf_di...</td>\n",
       "      <td>2018.05.26.a</td>\n",
       "      <td>2018.05.26.a</td>\n",
       "      <td>6294.0</td>\n",
       "      <td>0</td>\n",
       "      <td>0</td>\n",
       "    </tr>\n",
       "    <tr>\n",
       "      <th>12</th>\n",
       "      <td>2018.05.13.b</td>\n",
       "      <td>13-May-2018</td>\n",
       "      <td>2018.0</td>\n",
       "      <td>Unprovoked</td>\n",
       "      <td>USA</td>\n",
       "      <td>South Carolina</td>\n",
       "      <td>Hilton Head Island, Beaufort County</td>\n",
       "      <td>Swimming</td>\n",
       "      <td>Jei Turrell</td>\n",
       "      <td>M</td>\n",
       "      <td>10</td>\n",
       "      <td>Severe bite to right forearm</td>\n",
       "      <td>N</td>\n",
       "      <td>15h00</td>\n",
       "      <td>NaN</td>\n",
       "      <td>C. Creswell, GSAF &amp; K. McMurray TrackingSharks...</td>\n",
       "      <td>2018.05.13.b-Turrell.pdf</td>\n",
       "      <td>http://sharkattackfile.net/spreadsheets/pdf_di...</td>\n",
       "      <td>http://sharkattackfile.net/spreadsheets/pdf_di...</td>\n",
       "      <td>2018.05.13.b</td>\n",
       "      <td>2018.05.13.b</td>\n",
       "      <td>6291.0</td>\n",
       "      <td>0</td>\n",
       "      <td>0</td>\n",
       "    </tr>\n",
       "  </tbody>\n",
       "</table>\n",
       "</div>"
      ],
      "text/plain": [
       "     case_number         date    year        type country            area  \\\n",
       "0     2018.06.25  25-Jun-2018  2018.0     Boating     USA      California   \n",
       "2     2018.06.09  09-Jun-2018  2018.0     Invalid     USA          Hawaii   \n",
       "8   2018.05.26.b  26-May-2018  2018.0  Unprovoked     USA         Florida   \n",
       "9   2018.05.26.a  26-May-2018  2018.0  Unprovoked     USA         Florida   \n",
       "12  2018.05.13.b  13-May-2018  2018.0  Unprovoked     USA  South Carolina   \n",
       "\n",
       "                               location  activity         name sex age  \\\n",
       "0           Oceanside, San Diego County  Paddling  Julie Wolfe   F  57   \n",
       "2                          Habush, Oahu   Surfing  John Denges   M  48   \n",
       "8          Cocoa Beach, Brevard  County   Walking    Cody High   M  15   \n",
       "9         Daytona Beach, Volusia County  Standing         male   M  12   \n",
       "12  Hilton Head Island, Beaufort County  Swimming  Jei Turrell   M  10   \n",
       "\n",
       "                                               injury fatal_(y/n)   time  \\\n",
       "0   No injury to occupant, outrigger canoe and pad...           N  18h00   \n",
       "2        Injury to left lower leg from surfboard skeg           N  07h45   \n",
       "8                               Lower left leg bitten           N  17h00   \n",
       "9                                Minor injury to foot           N  14h00   \n",
       "12                       Severe bite to right forearm           N  15h00   \n",
       "\n",
       "           species                             investigator_or_source  \\\n",
       "0      White shark                                   R. Collier, GSAF   \n",
       "2              NaN                     K.McMurray, TrackingSharks.com   \n",
       "8   Bull shark, 6'                     K.McMurray, TrackingSharks.com   \n",
       "9              NaN                   K. McMurray, Tracking Sharks.com   \n",
       "12             NaN  C. Creswell, GSAF & K. McMurray TrackingSharks...   \n",
       "\n",
       "                              pdf  \\\n",
       "0            2018.06.25-Wolfe.pdf   \n",
       "2           2018.06.09-Denges.pdf   \n",
       "8           2018.05.26.b-High.pdf   \n",
       "9   2018.05.26.a-DaytonaBeach.pdf   \n",
       "12       2018.05.13.b-Turrell.pdf   \n",
       "\n",
       "                                         href_formula  \\\n",
       "0   http://sharkattackfile.net/spreadsheets/pdf_di...   \n",
       "2   http://sharkattackfile.net/spreadsheets/pdf_di...   \n",
       "8   http://sharkattackfile.net/spreadsheets/pdf_di...   \n",
       "9   http://sharkattackfile.net/spreadsheets/pdf_di...   \n",
       "12  http://sharkattackfile.net/spreadsheets/pdf_di...   \n",
       "\n",
       "                                                 href case_number_1  \\\n",
       "0   http://sharkattackfile.net/spreadsheets/pdf_di...    2018.06.25   \n",
       "2   http://sharkattackfile.net/spreadsheets/pdf_di...    2018.06.09   \n",
       "8   http://sharkattackfile.net/spreadsheets/pdf_di...  2018.05.26.b   \n",
       "9   http://sharkattackfile.net/spreadsheets/pdf_di...  2018.05.26.a   \n",
       "12  http://sharkattackfile.net/spreadsheets/pdf_di...  2018.05.13.b   \n",
       "\n",
       "   case_number_2  original_order  unnamed_1  unnamed_2  \n",
       "0     2018.06.25          6303.0          0          0  \n",
       "2     2018.06.09          6301.0          0          0  \n",
       "8   2018.05.26.b          6295.0          0          0  \n",
       "9   2018.05.26.a          6294.0          0          0  \n",
       "12  2018.05.13.b          6291.0          0          0  "
      ]
     },
     "execution_count": 39,
     "metadata": {},
     "output_type": "execute_result"
    }
   ],
   "source": [
    "hour_format.head(5)"
   ]
  },
  {
   "cell_type": "code",
   "execution_count": 40,
   "id": "7e600446",
   "metadata": {},
   "outputs": [
    {
     "name": "stderr",
     "output_type": "stream",
     "text": [
      "/var/folders/x2/68m0f_l16x5bzxl95_y3qn3m0000gp/T/ipykernel_38818/1735656033.py:2: SettingWithCopyWarning: \n",
      "A value is trying to be set on a copy of a slice from a DataFrame.\n",
      "Try using .loc[row_indexer,col_indexer] = value instead\n",
      "\n",
      "See the caveats in the documentation: https://pandas.pydata.org/pandas-docs/stable/user_guide/indexing.html#returning-a-view-versus-a-copy\n",
      "  hour_format['time_label'] = ''\n"
     ]
    },
    {
     "data": {
      "text/html": [
       "<div>\n",
       "<style scoped>\n",
       "    .dataframe tbody tr th:only-of-type {\n",
       "        vertical-align: middle;\n",
       "    }\n",
       "\n",
       "    .dataframe tbody tr th {\n",
       "        vertical-align: top;\n",
       "    }\n",
       "\n",
       "    .dataframe thead th {\n",
       "        text-align: right;\n",
       "    }\n",
       "</style>\n",
       "<table border=\"1\" class=\"dataframe\">\n",
       "  <thead>\n",
       "    <tr style=\"text-align: right;\">\n",
       "      <th></th>\n",
       "      <th>time</th>\n",
       "      <th>time_label</th>\n",
       "    </tr>\n",
       "  </thead>\n",
       "  <tbody>\n",
       "    <tr>\n",
       "      <th>0</th>\n",
       "      <td>18h00</td>\n",
       "      <td>Afternoon</td>\n",
       "    </tr>\n",
       "    <tr>\n",
       "      <th>2</th>\n",
       "      <td>07h45</td>\n",
       "      <td>Morning</td>\n",
       "    </tr>\n",
       "    <tr>\n",
       "      <th>8</th>\n",
       "      <td>17h00</td>\n",
       "      <td>Afternoon</td>\n",
       "    </tr>\n",
       "    <tr>\n",
       "      <th>9</th>\n",
       "      <td>14h00</td>\n",
       "      <td>Afternoon</td>\n",
       "    </tr>\n",
       "    <tr>\n",
       "      <th>12</th>\n",
       "      <td>15h00</td>\n",
       "      <td>Afternoon</td>\n",
       "    </tr>\n",
       "    <tr>\n",
       "      <th>13</th>\n",
       "      <td>08h15</td>\n",
       "      <td>Morning</td>\n",
       "    </tr>\n",
       "    <tr>\n",
       "      <th>15</th>\n",
       "      <td>11h00</td>\n",
       "      <td>Morning</td>\n",
       "    </tr>\n",
       "    <tr>\n",
       "      <th>16</th>\n",
       "      <td>10h30</td>\n",
       "      <td>Morning</td>\n",
       "    </tr>\n",
       "    <tr>\n",
       "      <th>18</th>\n",
       "      <td>10h40</td>\n",
       "      <td>Morning</td>\n",
       "    </tr>\n",
       "    <tr>\n",
       "      <th>19</th>\n",
       "      <td>16h50</td>\n",
       "      <td>Afternoon</td>\n",
       "    </tr>\n",
       "  </tbody>\n",
       "</table>\n",
       "</div>"
      ],
      "text/plain": [
       "     time time_label\n",
       "0   18h00  Afternoon\n",
       "2   07h45    Morning\n",
       "8   17h00  Afternoon\n",
       "9   14h00  Afternoon\n",
       "12  15h00  Afternoon\n",
       "13  08h15    Morning\n",
       "15  11h00    Morning\n",
       "16  10h30    Morning\n",
       "18  10h40    Morning\n",
       "19  16h50  Afternoon"
      ]
     },
     "execution_count": 40,
     "metadata": {},
     "output_type": "execute_result"
    }
   ],
   "source": [
    "# Initialize the 'time_label' column with an empty string\n",
    "hour_format['time_label'] = ''\n",
    "\n",
    "# Loop through each row in the 'hour_format' DataFrame\n",
    "for index, row in hour_format.iterrows():\n",
    "    \n",
    "    # Extract the first two characters of the 'time' column and convert them to an integer\n",
    "    e = int(row['time'][0:2])\n",
    "    \n",
    "    # Check the time range and set the 'time_label' accordingly\n",
    "    if e >= 4 and e < 12:\n",
    "        hour_format.at[index, 'time_label'] = 'Morning'\n",
    "    elif e >= 12 and e < 20:\n",
    "        hour_format.at[index, 'time_label'] = 'Afternoon'\n",
    "    else:\n",
    "        hour_format.at[index, 'time_label'] = 'Night'\n",
    "        \n",
    "hour_format[['time', 'time_label']].head(10)"
   ]
  },
  {
   "cell_type": "code",
   "execution_count": 41,
   "id": "1d6a1da3",
   "metadata": {},
   "outputs": [
    {
     "data": {
      "text/html": [
       "<div>\n",
       "<style scoped>\n",
       "    .dataframe tbody tr th:only-of-type {\n",
       "        vertical-align: middle;\n",
       "    }\n",
       "\n",
       "    .dataframe tbody tr th {\n",
       "        vertical-align: top;\n",
       "    }\n",
       "\n",
       "    .dataframe thead th {\n",
       "        text-align: right;\n",
       "    }\n",
       "</style>\n",
       "<table border=\"1\" class=\"dataframe\">\n",
       "  <thead>\n",
       "    <tr style=\"text-align: right;\">\n",
       "      <th></th>\n",
       "      <th>case_number</th>\n",
       "      <th>date</th>\n",
       "      <th>year</th>\n",
       "      <th>type</th>\n",
       "      <th>country</th>\n",
       "      <th>area</th>\n",
       "      <th>location</th>\n",
       "      <th>activity</th>\n",
       "      <th>name</th>\n",
       "      <th>sex</th>\n",
       "      <th>age</th>\n",
       "      <th>injury</th>\n",
       "      <th>fatal_(y/n)</th>\n",
       "      <th>time</th>\n",
       "      <th>species</th>\n",
       "      <th>investigator_or_source</th>\n",
       "      <th>pdf</th>\n",
       "      <th>href_formula</th>\n",
       "      <th>href</th>\n",
       "      <th>case_number_1</th>\n",
       "      <th>case_number_2</th>\n",
       "      <th>original_order</th>\n",
       "      <th>unnamed_1</th>\n",
       "      <th>unnamed_2</th>\n",
       "      <th>time_label</th>\n",
       "    </tr>\n",
       "  </thead>\n",
       "  <tbody>\n",
       "    <tr>\n",
       "      <th>0</th>\n",
       "      <td>2018.06.25</td>\n",
       "      <td>25-Jun-2018</td>\n",
       "      <td>2018.0</td>\n",
       "      <td>Boating</td>\n",
       "      <td>USA</td>\n",
       "      <td>California</td>\n",
       "      <td>Oceanside, San Diego County</td>\n",
       "      <td>Paddling</td>\n",
       "      <td>Julie Wolfe</td>\n",
       "      <td>F</td>\n",
       "      <td>57</td>\n",
       "      <td>No injury to occupant, outrigger canoe and pad...</td>\n",
       "      <td>N</td>\n",
       "      <td>18h00</td>\n",
       "      <td>White shark</td>\n",
       "      <td>R. Collier, GSAF</td>\n",
       "      <td>2018.06.25-Wolfe.pdf</td>\n",
       "      <td>http://sharkattackfile.net/spreadsheets/pdf_di...</td>\n",
       "      <td>http://sharkattackfile.net/spreadsheets/pdf_di...</td>\n",
       "      <td>2018.06.25</td>\n",
       "      <td>2018.06.25</td>\n",
       "      <td>6303.0</td>\n",
       "      <td>0</td>\n",
       "      <td>0</td>\n",
       "      <td>Afternoon</td>\n",
       "    </tr>\n",
       "    <tr>\n",
       "      <th>2</th>\n",
       "      <td>2018.06.09</td>\n",
       "      <td>09-Jun-2018</td>\n",
       "      <td>2018.0</td>\n",
       "      <td>Invalid</td>\n",
       "      <td>USA</td>\n",
       "      <td>Hawaii</td>\n",
       "      <td>Habush, Oahu</td>\n",
       "      <td>Surfing</td>\n",
       "      <td>John Denges</td>\n",
       "      <td>M</td>\n",
       "      <td>48</td>\n",
       "      <td>Injury to left lower leg from surfboard skeg</td>\n",
       "      <td>N</td>\n",
       "      <td>07h45</td>\n",
       "      <td>NaN</td>\n",
       "      <td>K.McMurray, TrackingSharks.com</td>\n",
       "      <td>2018.06.09-Denges.pdf</td>\n",
       "      <td>http://sharkattackfile.net/spreadsheets/pdf_di...</td>\n",
       "      <td>http://sharkattackfile.net/spreadsheets/pdf_di...</td>\n",
       "      <td>2018.06.09</td>\n",
       "      <td>2018.06.09</td>\n",
       "      <td>6301.0</td>\n",
       "      <td>0</td>\n",
       "      <td>0</td>\n",
       "      <td>Morning</td>\n",
       "    </tr>\n",
       "    <tr>\n",
       "      <th>8</th>\n",
       "      <td>2018.05.26.b</td>\n",
       "      <td>26-May-2018</td>\n",
       "      <td>2018.0</td>\n",
       "      <td>Unprovoked</td>\n",
       "      <td>USA</td>\n",
       "      <td>Florida</td>\n",
       "      <td>Cocoa Beach, Brevard  County</td>\n",
       "      <td>Walking</td>\n",
       "      <td>Cody High</td>\n",
       "      <td>M</td>\n",
       "      <td>15</td>\n",
       "      <td>Lower left leg bitten</td>\n",
       "      <td>N</td>\n",
       "      <td>17h00</td>\n",
       "      <td>Bull shark, 6'</td>\n",
       "      <td>K.McMurray, TrackingSharks.com</td>\n",
       "      <td>2018.05.26.b-High.pdf</td>\n",
       "      <td>http://sharkattackfile.net/spreadsheets/pdf_di...</td>\n",
       "      <td>http://sharkattackfile.net/spreadsheets/pdf_di...</td>\n",
       "      <td>2018.05.26.b</td>\n",
       "      <td>2018.05.26.b</td>\n",
       "      <td>6295.0</td>\n",
       "      <td>0</td>\n",
       "      <td>0</td>\n",
       "      <td>Afternoon</td>\n",
       "    </tr>\n",
       "  </tbody>\n",
       "</table>\n",
       "</div>"
      ],
      "text/plain": [
       "    case_number         date    year        type country        area  \\\n",
       "0    2018.06.25  25-Jun-2018  2018.0     Boating     USA  California   \n",
       "2    2018.06.09  09-Jun-2018  2018.0     Invalid     USA      Hawaii   \n",
       "8  2018.05.26.b  26-May-2018  2018.0  Unprovoked     USA     Florida   \n",
       "\n",
       "                       location  activity         name sex age  \\\n",
       "0   Oceanside, San Diego County  Paddling  Julie Wolfe   F  57   \n",
       "2                  Habush, Oahu   Surfing  John Denges   M  48   \n",
       "8  Cocoa Beach, Brevard  County   Walking    Cody High   M  15   \n",
       "\n",
       "                                              injury fatal_(y/n)   time  \\\n",
       "0  No injury to occupant, outrigger canoe and pad...           N  18h00   \n",
       "2       Injury to left lower leg from surfboard skeg           N  07h45   \n",
       "8                              Lower left leg bitten           N  17h00   \n",
       "\n",
       "          species          investigator_or_source                    pdf  \\\n",
       "0     White shark                R. Collier, GSAF   2018.06.25-Wolfe.pdf   \n",
       "2             NaN  K.McMurray, TrackingSharks.com  2018.06.09-Denges.pdf   \n",
       "8  Bull shark, 6'  K.McMurray, TrackingSharks.com  2018.05.26.b-High.pdf   \n",
       "\n",
       "                                        href_formula  \\\n",
       "0  http://sharkattackfile.net/spreadsheets/pdf_di...   \n",
       "2  http://sharkattackfile.net/spreadsheets/pdf_di...   \n",
       "8  http://sharkattackfile.net/spreadsheets/pdf_di...   \n",
       "\n",
       "                                                href case_number_1  \\\n",
       "0  http://sharkattackfile.net/spreadsheets/pdf_di...    2018.06.25   \n",
       "2  http://sharkattackfile.net/spreadsheets/pdf_di...    2018.06.09   \n",
       "8  http://sharkattackfile.net/spreadsheets/pdf_di...  2018.05.26.b   \n",
       "\n",
       "  case_number_2  original_order  unnamed_1  unnamed_2 time_label  \n",
       "0    2018.06.25          6303.0          0          0  Afternoon  \n",
       "2    2018.06.09          6301.0          0          0    Morning  \n",
       "8  2018.05.26.b          6295.0          0          0  Afternoon  "
      ]
     },
     "execution_count": 41,
     "metadata": {},
     "output_type": "execute_result"
    }
   ],
   "source": [
    "hour_format.head(3)"
   ]
  },
  {
   "cell_type": "code",
   "execution_count": 42,
   "id": "6030a42d",
   "metadata": {},
   "outputs": [],
   "source": [
    "# Assign the 'time_label' column from 'hour_format' to 'data', respecting the index\n",
    "\n",
    "data['time_label']=hour_format['time_label']"
   ]
  },
  {
   "cell_type": "code",
   "execution_count": 43,
   "id": "0ac6de2c",
   "metadata": {},
   "outputs": [
    {
     "data": {
      "text/html": [
       "<div>\n",
       "<style scoped>\n",
       "    .dataframe tbody tr th:only-of-type {\n",
       "        vertical-align: middle;\n",
       "    }\n",
       "\n",
       "    .dataframe tbody tr th {\n",
       "        vertical-align: top;\n",
       "    }\n",
       "\n",
       "    .dataframe thead th {\n",
       "        text-align: right;\n",
       "    }\n",
       "</style>\n",
       "<table border=\"1\" class=\"dataframe\">\n",
       "  <thead>\n",
       "    <tr style=\"text-align: right;\">\n",
       "      <th></th>\n",
       "      <th>case_number</th>\n",
       "      <th>date</th>\n",
       "      <th>year</th>\n",
       "      <th>type</th>\n",
       "      <th>country</th>\n",
       "      <th>area</th>\n",
       "      <th>location</th>\n",
       "      <th>activity</th>\n",
       "      <th>name</th>\n",
       "      <th>sex</th>\n",
       "      <th>age</th>\n",
       "      <th>injury</th>\n",
       "      <th>fatal_(y/n)</th>\n",
       "      <th>time</th>\n",
       "      <th>species</th>\n",
       "      <th>investigator_or_source</th>\n",
       "      <th>pdf</th>\n",
       "      <th>href_formula</th>\n",
       "      <th>href</th>\n",
       "      <th>case_number_1</th>\n",
       "      <th>case_number_2</th>\n",
       "      <th>original_order</th>\n",
       "      <th>unnamed_1</th>\n",
       "      <th>unnamed_2</th>\n",
       "      <th>time_label</th>\n",
       "    </tr>\n",
       "  </thead>\n",
       "  <tbody>\n",
       "    <tr>\n",
       "      <th>0</th>\n",
       "      <td>2018.06.25</td>\n",
       "      <td>25-Jun-2018</td>\n",
       "      <td>2018.0</td>\n",
       "      <td>Boating</td>\n",
       "      <td>USA</td>\n",
       "      <td>California</td>\n",
       "      <td>Oceanside, San Diego County</td>\n",
       "      <td>Paddling</td>\n",
       "      <td>Julie Wolfe</td>\n",
       "      <td>F</td>\n",
       "      <td>57</td>\n",
       "      <td>No injury to occupant, outrigger canoe and pad...</td>\n",
       "      <td>N</td>\n",
       "      <td>18h00</td>\n",
       "      <td>White shark</td>\n",
       "      <td>R. Collier, GSAF</td>\n",
       "      <td>2018.06.25-Wolfe.pdf</td>\n",
       "      <td>http://sharkattackfile.net/spreadsheets/pdf_di...</td>\n",
       "      <td>http://sharkattackfile.net/spreadsheets/pdf_di...</td>\n",
       "      <td>2018.06.25</td>\n",
       "      <td>2018.06.25</td>\n",
       "      <td>6303.0</td>\n",
       "      <td>0</td>\n",
       "      <td>0</td>\n",
       "      <td>Afternoon</td>\n",
       "    </tr>\n",
       "    <tr>\n",
       "      <th>1</th>\n",
       "      <td>2018.06.18</td>\n",
       "      <td>18-Jun-2018</td>\n",
       "      <td>2018.0</td>\n",
       "      <td>Unprovoked</td>\n",
       "      <td>USA</td>\n",
       "      <td>Georgia</td>\n",
       "      <td>St. Simon Island, Glynn County</td>\n",
       "      <td>Standing</td>\n",
       "      <td>Adyson McNeely</td>\n",
       "      <td>F</td>\n",
       "      <td>11</td>\n",
       "      <td>Minor injury to left thigh</td>\n",
       "      <td>N</td>\n",
       "      <td>14h00  -15h00</td>\n",
       "      <td>NaN</td>\n",
       "      <td>K.McMurray, TrackingSharks.com</td>\n",
       "      <td>2018.06.18-McNeely.pdf</td>\n",
       "      <td>http://sharkattackfile.net/spreadsheets/pdf_di...</td>\n",
       "      <td>http://sharkattackfile.net/spreadsheets/pdf_di...</td>\n",
       "      <td>2018.06.18</td>\n",
       "      <td>2018.06.18</td>\n",
       "      <td>6302.0</td>\n",
       "      <td>0</td>\n",
       "      <td>0</td>\n",
       "      <td>NaN</td>\n",
       "    </tr>\n",
       "    <tr>\n",
       "      <th>2</th>\n",
       "      <td>2018.06.09</td>\n",
       "      <td>09-Jun-2018</td>\n",
       "      <td>2018.0</td>\n",
       "      <td>Invalid</td>\n",
       "      <td>USA</td>\n",
       "      <td>Hawaii</td>\n",
       "      <td>Habush, Oahu</td>\n",
       "      <td>Surfing</td>\n",
       "      <td>John Denges</td>\n",
       "      <td>M</td>\n",
       "      <td>48</td>\n",
       "      <td>Injury to left lower leg from surfboard skeg</td>\n",
       "      <td>N</td>\n",
       "      <td>07h45</td>\n",
       "      <td>NaN</td>\n",
       "      <td>K.McMurray, TrackingSharks.com</td>\n",
       "      <td>2018.06.09-Denges.pdf</td>\n",
       "      <td>http://sharkattackfile.net/spreadsheets/pdf_di...</td>\n",
       "      <td>http://sharkattackfile.net/spreadsheets/pdf_di...</td>\n",
       "      <td>2018.06.09</td>\n",
       "      <td>2018.06.09</td>\n",
       "      <td>6301.0</td>\n",
       "      <td>0</td>\n",
       "      <td>0</td>\n",
       "      <td>Morning</td>\n",
       "    </tr>\n",
       "    <tr>\n",
       "      <th>3</th>\n",
       "      <td>2018.06.08</td>\n",
       "      <td>08-Jun-2018</td>\n",
       "      <td>2018.0</td>\n",
       "      <td>Unprovoked</td>\n",
       "      <td>AUSTRALIA</td>\n",
       "      <td>New South Wales</td>\n",
       "      <td>Arrawarra Headland</td>\n",
       "      <td>Surfing</td>\n",
       "      <td>male</td>\n",
       "      <td>M</td>\n",
       "      <td>NaN</td>\n",
       "      <td>Minor injury to lower leg</td>\n",
       "      <td>N</td>\n",
       "      <td>Unknown</td>\n",
       "      <td>2 m shark</td>\n",
       "      <td>B. Myatt, GSAF</td>\n",
       "      <td>2018.06.08-Arrawarra.pdf</td>\n",
       "      <td>http://sharkattackfile.net/spreadsheets/pdf_di...</td>\n",
       "      <td>http://sharkattackfile.net/spreadsheets/pdf_di...</td>\n",
       "      <td>2018.06.08</td>\n",
       "      <td>2018.06.08</td>\n",
       "      <td>6300.0</td>\n",
       "      <td>0</td>\n",
       "      <td>0</td>\n",
       "      <td>NaN</td>\n",
       "    </tr>\n",
       "    <tr>\n",
       "      <th>4</th>\n",
       "      <td>2018.06.04</td>\n",
       "      <td>04-Jun-2018</td>\n",
       "      <td>2018.0</td>\n",
       "      <td>Provoked</td>\n",
       "      <td>MEXICO</td>\n",
       "      <td>Colima</td>\n",
       "      <td>La Ticla</td>\n",
       "      <td>Free diving</td>\n",
       "      <td>Gustavo Ramos</td>\n",
       "      <td>M</td>\n",
       "      <td>NaN</td>\n",
       "      <td>Lacerations to leg &amp; hand shark PROVOKED INCIDENT</td>\n",
       "      <td>N</td>\n",
       "      <td>Unknown</td>\n",
       "      <td>Tiger shark, 3m</td>\n",
       "      <td>A .Kipper</td>\n",
       "      <td>2018.06.04-Ramos.pdf</td>\n",
       "      <td>http://sharkattackfile.net/spreadsheets/pdf_di...</td>\n",
       "      <td>http://sharkattackfile.net/spreadsheets/pdf_di...</td>\n",
       "      <td>2018.06.04</td>\n",
       "      <td>2018.06.04</td>\n",
       "      <td>6299.0</td>\n",
       "      <td>0</td>\n",
       "      <td>0</td>\n",
       "      <td>NaN</td>\n",
       "    </tr>\n",
       "  </tbody>\n",
       "</table>\n",
       "</div>"
      ],
      "text/plain": [
       "  case_number         date    year        type    country             area  \\\n",
       "0  2018.06.25  25-Jun-2018  2018.0     Boating        USA       California   \n",
       "1  2018.06.18  18-Jun-2018  2018.0  Unprovoked        USA          Georgia   \n",
       "2  2018.06.09  09-Jun-2018  2018.0     Invalid        USA           Hawaii   \n",
       "3  2018.06.08  08-Jun-2018  2018.0  Unprovoked  AUSTRALIA  New South Wales   \n",
       "4  2018.06.04  04-Jun-2018  2018.0    Provoked     MEXICO           Colima   \n",
       "\n",
       "                         location     activity             name sex  age  \\\n",
       "0     Oceanside, San Diego County     Paddling      Julie Wolfe   F   57   \n",
       "1  St. Simon Island, Glynn County     Standing  Adyson McNeely    F   11   \n",
       "2                    Habush, Oahu      Surfing      John Denges   M   48   \n",
       "3              Arrawarra Headland      Surfing             male   M  NaN   \n",
       "4                        La Ticla  Free diving   Gustavo Ramos    M  NaN   \n",
       "\n",
       "                                              injury fatal_(y/n)  \\\n",
       "0  No injury to occupant, outrigger canoe and pad...           N   \n",
       "1                         Minor injury to left thigh           N   \n",
       "2       Injury to left lower leg from surfboard skeg           N   \n",
       "3                          Minor injury to lower leg           N   \n",
       "4  Lacerations to leg & hand shark PROVOKED INCIDENT           N   \n",
       "\n",
       "            time          species          investigator_or_source  \\\n",
       "0          18h00      White shark                R. Collier, GSAF   \n",
       "1  14h00  -15h00              NaN  K.McMurray, TrackingSharks.com   \n",
       "2          07h45              NaN  K.McMurray, TrackingSharks.com   \n",
       "3        Unknown        2 m shark                  B. Myatt, GSAF   \n",
       "4        Unknown  Tiger shark, 3m                       A .Kipper   \n",
       "\n",
       "                        pdf  \\\n",
       "0      2018.06.25-Wolfe.pdf   \n",
       "1    2018.06.18-McNeely.pdf   \n",
       "2     2018.06.09-Denges.pdf   \n",
       "3  2018.06.08-Arrawarra.pdf   \n",
       "4      2018.06.04-Ramos.pdf   \n",
       "\n",
       "                                        href_formula  \\\n",
       "0  http://sharkattackfile.net/spreadsheets/pdf_di...   \n",
       "1  http://sharkattackfile.net/spreadsheets/pdf_di...   \n",
       "2  http://sharkattackfile.net/spreadsheets/pdf_di...   \n",
       "3  http://sharkattackfile.net/spreadsheets/pdf_di...   \n",
       "4  http://sharkattackfile.net/spreadsheets/pdf_di...   \n",
       "\n",
       "                                                href case_number_1  \\\n",
       "0  http://sharkattackfile.net/spreadsheets/pdf_di...    2018.06.25   \n",
       "1  http://sharkattackfile.net/spreadsheets/pdf_di...    2018.06.18   \n",
       "2  http://sharkattackfile.net/spreadsheets/pdf_di...    2018.06.09   \n",
       "3  http://sharkattackfile.net/spreadsheets/pdf_di...    2018.06.08   \n",
       "4  http://sharkattackfile.net/spreadsheets/pdf_di...    2018.06.04   \n",
       "\n",
       "  case_number_2  original_order  unnamed_1  unnamed_2 time_label  \n",
       "0    2018.06.25          6303.0          0          0  Afternoon  \n",
       "1    2018.06.18          6302.0          0          0        NaN  \n",
       "2    2018.06.09          6301.0          0          0    Morning  \n",
       "3    2018.06.08          6300.0          0          0        NaN  \n",
       "4    2018.06.04          6299.0          0          0        NaN  "
      ]
     },
     "execution_count": 43,
     "metadata": {},
     "output_type": "execute_result"
    }
   ],
   "source": [
    "data.head()"
   ]
  },
  {
   "cell_type": "code",
   "execution_count": 44,
   "id": "83c020e1",
   "metadata": {},
   "outputs": [],
   "source": [
    "words=['Morning', 'Afternoon', 'Night']\n",
    "\n",
    "# select rows that match the expression\n",
    "for w in words:\n",
    "    data.loc[data['time'].str.contains(w, case=False), 'time_label'] = w\n",
    "\n",
    "    \n",
    "    \n",
    "# List of words to match in the 'time' column\n",
    "words = ['Morning', 'Afternoon', 'Night']\n",
    "\n",
    "# Select rows that match the expressions in the 'words' list\n",
    "for w in words:\n",
    "    # Access the rows where the 'time' column contains the current word 'w'\n",
    "    # Update 'time_label' with the current word 'w'.\n",
    "    data.loc[data['time'].str.contains(w, case=False), 'time_label'] = w\n"
   ]
  },
  {
   "cell_type": "code",
   "execution_count": 45,
   "id": "c7dda3cb",
   "metadata": {},
   "outputs": [],
   "source": [
    "# Fill the null values of the 'time_label' column with the word 'Unknown'\n",
    "\n",
    "data['time_label'].fillna('Unknown', inplace=True)"
   ]
  },
  {
   "cell_type": "code",
   "execution_count": 46,
   "id": "ed83315b",
   "metadata": {},
   "outputs": [
    {
     "data": {
      "text/plain": [
       "Unknown      3555\n",
       "Afternoon    1706\n",
       "Morning       900\n",
       "Night         141\n",
       "Name: time_label, dtype: int64"
      ]
     },
     "execution_count": 46,
     "metadata": {},
     "output_type": "execute_result"
    }
   ],
   "source": [
    "data['time_label'].value_counts()"
   ]
  },
  {
   "cell_type": "code",
   "execution_count": 47,
   "id": "7c889c33",
   "metadata": {},
   "outputs": [
    {
     "data": {
      "text/plain": [
       "Unknown      3354\n",
       "Afternoon     187\n",
       "11h00         128\n",
       "Morning       121\n",
       "12h00         109\n",
       "Name: time, dtype: int64"
      ]
     },
     "execution_count": 47,
     "metadata": {},
     "output_type": "execute_result"
    }
   ],
   "source": [
    "data['time'].value_counts().head()"
   ]
  },
  {
   "cell_type": "code",
   "execution_count": 48,
   "id": "107eb8d8",
   "metadata": {},
   "outputs": [
    {
     "data": {
      "text/plain": [
       "species                   45.033323\n",
       "age                       44.922247\n",
       "sex                        8.965408\n",
       "activity                   8.632180\n",
       "location                   8.568708\n",
       "fatal_(y/n)                8.552840\n",
       "area                       7.219930\n",
       "name                       3.332275\n",
       "country                    0.793399\n",
       "injury                     0.444303\n",
       "investigator_or_source     0.269756\n",
       "type                       0.063472\n",
       "year                       0.031736\n",
       "case_number                0.015868\n",
       "href_formula               0.015868\n",
       "dtype: float64"
      ]
     },
     "execution_count": 48,
     "metadata": {},
     "output_type": "execute_result"
    }
   ],
   "source": [
    "nan_cols = data.isna().mean()*100  \n",
    "\n",
    "sorted_na_cols_v2=nan_cols[nan_cols>0].sort_values(ascending=False)\n",
    "sorted_na_cols_v2"
   ]
  },
  {
   "cell_type": "markdown",
   "id": "50c7a835",
   "metadata": {},
   "source": [
    "### `species` column"
   ]
  },
  {
   "cell_type": "code",
   "execution_count": 49,
   "id": "ac1864db",
   "metadata": {},
   "outputs": [
    {
     "data": {
      "text/plain": [
       "White shark                                           163\n",
       "Shark involvement prior to death was not confirmed    105\n",
       "Invalid                                               102\n",
       "Shark involvement not confirmed                        88\n",
       "Tiger shark                                            73\n",
       "Shark involvement prior to death unconfirmed           68\n",
       "Bull shark                                             52\n",
       "6' shark                                               40\n",
       "4' shark                                               40\n",
       "1.8 m [6'] shark                                       35\n",
       "Name: species, dtype: int64"
      ]
     },
     "execution_count": 49,
     "metadata": {},
     "output_type": "execute_result"
    }
   ],
   "source": [
    "data['species'].value_counts().head(10)"
   ]
  },
  {
   "cell_type": "markdown",
   "id": "6bf214e6",
   "metadata": {},
   "source": [
    "After inspecting the `species` column, we've realised that it is widely inconsistent. It includes information on the shark's species, its size, details about the attack, etc. Correcting and standardizing this column is out of the scope of this project.\n",
    "Due to its unreliability, we will not be using this column for future analysis. We will, however, fill null values with 'Unknown'."
   ]
  },
  {
   "cell_type": "code",
   "execution_count": 50,
   "id": "4ef5d114",
   "metadata": {},
   "outputs": [],
   "source": [
    "# Fill null values in 'species' with 'Unknown'\n",
    "\n",
    "data['species']=data['species'].fillna('Unknown')"
   ]
  },
  {
   "cell_type": "code",
   "execution_count": 51,
   "id": "abd63baf",
   "metadata": {},
   "outputs": [
    {
     "data": {
      "text/plain": [
       "0"
      ]
     },
     "execution_count": 51,
     "metadata": {},
     "output_type": "execute_result"
    }
   ],
   "source": [
    "data['species'].isna().sum()"
   ]
  },
  {
   "cell_type": "code",
   "execution_count": 52,
   "id": "cdf55f66",
   "metadata": {},
   "outputs": [
    {
     "data": {
      "text/plain": [
       "age                       44.922247\n",
       "sex                        8.965408\n",
       "activity                   8.632180\n",
       "location                   8.568708\n",
       "fatal_(y/n)                8.552840\n",
       "area                       7.219930\n",
       "name                       3.332275\n",
       "country                    0.793399\n",
       "injury                     0.444303\n",
       "investigator_or_source     0.269756\n",
       "type                       0.063472\n",
       "year                       0.031736\n",
       "case_number                0.015868\n",
       "href_formula               0.015868\n",
       "dtype: float64"
      ]
     },
     "execution_count": 52,
     "metadata": {},
     "output_type": "execute_result"
    }
   ],
   "source": [
    "nan_cols = data.isna().mean()*100  \n",
    "\n",
    "sorted_na_cols_v3=nan_cols[nan_cols>0].sort_values(ascending=False)\n",
    "sorted_na_cols_v3"
   ]
  },
  {
   "cell_type": "markdown",
   "id": "9c969dd7",
   "metadata": {},
   "source": [
    "### `age` column"
   ]
  },
  {
   "cell_type": "code",
   "execution_count": 53,
   "id": "fd506a58",
   "metadata": {},
   "outputs": [
    {
     "data": {
      "text/plain": [
       "array(['57', '11', '48', nan, '18', '52', '15', '12', '32', '10', '21',\n",
       "       '34', '30', '60', '33', '29', '54', '41', '37', '56', '19', '25',\n",
       "       '69', '38', '55', '35', '46', '45', '14', '40s', '28', '20', '24',\n",
       "       '26', '49', '22', '7', '31', '17', '40', '13', '42', '3', '8',\n",
       "       '50', '16', '82', '73', '20s', '68', '51', '39', '58', 'Teen',\n",
       "       '47', '61', '65', '36', '66', '43', '60s', '9', '72', '59', '6',\n",
       "       '27', '64', '23', '71', '44', '62', '63', '70', '18 months', '53',\n",
       "       '30s', '50s', 'teen', '77', '74', '28 & 26', '5', '86', '18 or 20',\n",
       "       '12 or 13', '46 & 34', '28, 23 & 30', 'Teens', '36 & 26',\n",
       "       '8 or 10', '84', '\\xa0 ', ' ', '30 or 36', '6½', '21 & ?', '75',\n",
       "       '33 or 37', 'mid-30s', '23 & 20', ' 30', '7      &    31', ' 28',\n",
       "       '20?', \"60's\", '32 & 30', '16 to 18', '87', '67', 'Elderly',\n",
       "       'mid-20s', 'Ca. 33', '74 ', '45 ', '21 or 26', '20 ', '>50',\n",
       "       '18 to 22', 'adult', '9 & 12', '? & 19', '9 months', '25 to 35',\n",
       "       '23 & 26', '1', '(adult)', '33 & 37', '25 or 28',\n",
       "       '37, 67, 35, 27,  ? & 27', '21, 34,24 & 35', '30 & 32', '50 & 30',\n",
       "       '17 & 35', 'X', '\"middle-age\"', '13 or 18', '34 & 19', '33 & 26',\n",
       "       '2 to 3 months', 'MAKE LINE GREEN', ' 43', '81', '\"young\"',\n",
       "       '7 or 8', '78', '17 & 16', 'F', 'Both 11', '9 or 10', 'young',\n",
       "       '36 & 23', '  ', 'A.M.', '?    &   14', '10 or 12', '31 or 33',\n",
       "       '2½', '13 or 14'], dtype=object)"
      ]
     },
     "execution_count": 53,
     "metadata": {},
     "output_type": "execute_result"
    }
   ],
   "source": [
    "data['age'].unique()"
   ]
  },
  {
   "cell_type": "code",
   "execution_count": 54,
   "id": "44b067c0",
   "metadata": {},
   "outputs": [
    {
     "data": {
      "text/plain": [
       "17    154\n",
       "18    150\n",
       "19    142\n",
       "20    141\n",
       "15    139\n",
       "16    138\n",
       "21    119\n",
       "22    117\n",
       "25    108\n",
       "24    106\n",
       "Name: age, dtype: int64"
      ]
     },
     "execution_count": 54,
     "metadata": {},
     "output_type": "execute_result"
    }
   ],
   "source": [
    "data[\"age\"].value_counts().head(10)"
   ]
  },
  {
   "cell_type": "code",
   "execution_count": 55,
   "id": "784543bf",
   "metadata": {},
   "outputs": [
    {
     "data": {
      "text/plain": [
       "2831"
      ]
     },
     "execution_count": 55,
     "metadata": {},
     "output_type": "execute_result"
    }
   ],
   "source": [
    "data[\"age\"].isnull().sum()"
   ]
  },
  {
   "cell_type": "code",
   "execution_count": 56,
   "id": "98070b19",
   "metadata": {},
   "outputs": [],
   "source": [
    "def transform_value(value):\n",
    "    # Check for specific patterns and replace accordingly\n",
    "    if re.match(r'^\\d+(\\.\\d+)?$', value):\n",
    "        return value\n",
    "    elif re.match(r'\\d+ or \\d+', value):\n",
    "        return re.search(r'\\d+', value).group()\n",
    "    elif re.match(r'\\d+½', value):\n",
    "        return re.sub(r'½', '.5', value)\n",
    "    elif re.match(r'^Ca\\. \\d+$', value):\n",
    "        return re.search(r'\\d+', value).group()\n",
    "    elif re.match(r'mid-\\d+s', value):\n",
    "        return re.search(r'\\d+', value).group()\n",
    "    elif re.match(r'^\\d+ months$', value):\n",
    "        return str(int(re.search(r'\\d+', value).group()) / 12)\n",
    "    else:\n",
    "        return np.nan  # For values that don't match any pattern, return null\n",
    "\n",
    "# Apply the function to transform the values in 'age'\n",
    "data['age'] = data['age'].astype(str).apply(transform_value)"
   ]
  },
  {
   "cell_type": "code",
   "execution_count": 57,
   "id": "57388702",
   "metadata": {},
   "outputs": [
    {
     "data": {
      "text/plain": [
       "array(['57', '11', '48', nan, '18', '52', '15', '12', '32', '10', '21',\n",
       "       '34', '30', '60', '33', '29', '54', '41', '37', '56', '19', '25',\n",
       "       '69', '38', '55', '35', '46', '45', '14', '28', '20', '24', '26',\n",
       "       '49', '22', '7', '31', '17', '40', '13', '42', '3', '8', '50',\n",
       "       '16', '82', '73', '68', '51', '39', '58', '47', '61', '65', '36',\n",
       "       '66', '43', '9', '72', '59', '6', '27', '64', '23', '71', '44',\n",
       "       '62', '63', '70', '1.5', '53', '77', '74', '5', '86', '84', '6.5',\n",
       "       '75', '87', '67', '0.75', '1', '81', '78', '2.5'], dtype=object)"
      ]
     },
     "execution_count": 57,
     "metadata": {},
     "output_type": "execute_result"
    }
   ],
   "source": [
    "data['age'].unique()"
   ]
  },
  {
   "cell_type": "code",
   "execution_count": 58,
   "id": "71949fa2",
   "metadata": {},
   "outputs": [
    {
     "data": {
      "text/plain": [
       "2917"
      ]
     },
     "execution_count": 58,
     "metadata": {},
     "output_type": "execute_result"
    }
   ],
   "source": [
    "data[\"age\"].isnull().sum()"
   ]
  },
  {
   "cell_type": "code",
   "execution_count": 59,
   "id": "75122a73",
   "metadata": {},
   "outputs": [],
   "source": [
    "data[\"age\"]=data[\"age\"].fillna(\"Unknown\")"
   ]
  },
  {
   "cell_type": "code",
   "execution_count": 60,
   "id": "023cb507",
   "metadata": {},
   "outputs": [
    {
     "data": {
      "text/plain": [
       "sex                       8.965408\n",
       "activity                  8.632180\n",
       "location                  8.568708\n",
       "fatal_(y/n)               8.552840\n",
       "area                      7.219930\n",
       "name                      3.332275\n",
       "country                   0.793399\n",
       "injury                    0.444303\n",
       "investigator_or_source    0.269756\n",
       "type                      0.063472\n",
       "year                      0.031736\n",
       "case_number               0.015868\n",
       "href_formula              0.015868\n",
       "dtype: float64"
      ]
     },
     "execution_count": 60,
     "metadata": {},
     "output_type": "execute_result"
    }
   ],
   "source": [
    "nan_cols = data.isna().mean()*100  \n",
    "\n",
    "sorted_na_cols_v4=nan_cols[nan_cols>0].sort_values(ascending=False)\n",
    "sorted_na_cols_v4"
   ]
  },
  {
   "cell_type": "markdown",
   "id": "e155cd48",
   "metadata": {},
   "source": [
    "## `sex`column"
   ]
  },
  {
   "cell_type": "code",
   "execution_count": 61,
   "id": "a4487927",
   "metadata": {},
   "outputs": [
    {
     "data": {
      "text/plain": [
       "array(['F', 'M', nan, 'M ', 'lli', 'N', '.'], dtype=object)"
      ]
     },
     "execution_count": 61,
     "metadata": {},
     "output_type": "execute_result"
    }
   ],
   "source": [
    "data[\"sex\"].unique()"
   ]
  },
  {
   "cell_type": "code",
   "execution_count": 62,
   "id": "1a1375ba",
   "metadata": {},
   "outputs": [
    {
     "data": {
      "text/plain": [
       "M      5094\n",
       "F       637\n",
       "M         2\n",
       "N         2\n",
       "lli       1\n",
       ".         1\n",
       "Name: sex, dtype: int64"
      ]
     },
     "execution_count": 62,
     "metadata": {},
     "output_type": "execute_result"
    }
   ],
   "source": [
    "data[\"sex\"].value_counts()"
   ]
  },
  {
   "cell_type": "code",
   "execution_count": 63,
   "id": "fd39dc31",
   "metadata": {},
   "outputs": [],
   "source": [
    "def transform_sex(value):\n",
    "    if isinstance(value, str):\n",
    "        value = value.strip()\n",
    "        mapping = {\n",
    "            'M': 'M',   # Should remain as 'M'\n",
    "            'F': 'F',   # Should remain as 'F'\n",
    "            'N': np.nan,  # Should be a null value (None)\n",
    "            'lli': np.nan,  # Should be a null value (None)\n",
    "            '.': np.nan  # Should be a null value (None)\n",
    "        }\n",
    "        return mapping.get(value, value)\n",
    "    else:\n",
    "        return value\n",
    "\n",
    "# Apply the transform_sex function to the 'sex' column\n",
    "data['sex'] = data['sex'].apply(transform_sex)"
   ]
  },
  {
   "cell_type": "code",
   "execution_count": 64,
   "id": "90257be3",
   "metadata": {},
   "outputs": [
    {
     "data": {
      "text/plain": [
       "M    5096\n",
       "F     637\n",
       "Name: sex, dtype: int64"
      ]
     },
     "execution_count": 64,
     "metadata": {},
     "output_type": "execute_result"
    }
   ],
   "source": [
    "data[\"sex\"].value_counts()"
   ]
  },
  {
   "cell_type": "code",
   "execution_count": 65,
   "id": "70e6744f",
   "metadata": {},
   "outputs": [],
   "source": [
    "data[\"sex\"]=data[\"sex\"].fillna(\"Unknown\")"
   ]
  },
  {
   "cell_type": "code",
   "execution_count": 66,
   "id": "2b981e68",
   "metadata": {},
   "outputs": [
    {
     "data": {
      "text/plain": [
       "activity                  8.632180\n",
       "location                  8.568708\n",
       "fatal_(y/n)               8.552840\n",
       "area                      7.219930\n",
       "name                      3.332275\n",
       "country                   0.793399\n",
       "injury                    0.444303\n",
       "investigator_or_source    0.269756\n",
       "type                      0.063472\n",
       "year                      0.031736\n",
       "case_number               0.015868\n",
       "href_formula              0.015868\n",
       "dtype: float64"
      ]
     },
     "execution_count": 66,
     "metadata": {},
     "output_type": "execute_result"
    }
   ],
   "source": [
    "nan_cols = data.isna().mean()*100  \n",
    "\n",
    "sorted_na_cols_v5=nan_cols[nan_cols>0].sort_values(ascending=False)\n",
    "sorted_na_cols_v5"
   ]
  },
  {
   "cell_type": "markdown",
   "id": "1a34181d",
   "metadata": {},
   "source": [
    "## `activity` column"
   ]
  },
  {
   "cell_type": "code",
   "execution_count": 67,
   "id": "e94a3102",
   "metadata": {},
   "outputs": [
    {
     "data": {
      "text/plain": [
       "Surfing         971\n",
       "Swimming        869\n",
       "Fishing         431\n",
       "Spearfishing    333\n",
       "Bathing         162\n",
       "Wading          149\n",
       "Diving          127\n",
       "Standing         99\n",
       "Snorkeling       89\n",
       "Scuba diving     76\n",
       "Name: activity, dtype: int64"
      ]
     },
     "execution_count": 67,
     "metadata": {},
     "output_type": "execute_result"
    }
   ],
   "source": [
    "data[\"activity\"].value_counts().head(10)"
   ]
  },
  {
   "cell_type": "markdown",
   "id": "3980ad99",
   "metadata": {},
   "source": [
    "Similarly to the `species` column, the `activity` column is also extremely variable. We will also not be using this column for future analysis. We will, however, fill null values with 'Unknown'."
   ]
  },
  {
   "cell_type": "code",
   "execution_count": 68,
   "id": "f3f3b64e",
   "metadata": {},
   "outputs": [],
   "source": [
    "data[\"activity\"]=data[\"activity\"].fillna(\"Unknown\")"
   ]
  },
  {
   "cell_type": "code",
   "execution_count": 69,
   "id": "711e993d",
   "metadata": {},
   "outputs": [
    {
     "data": {
      "text/plain": [
       "location                  8.568708\n",
       "fatal_(y/n)               8.552840\n",
       "area                      7.219930\n",
       "name                      3.332275\n",
       "country                   0.793399\n",
       "injury                    0.444303\n",
       "investigator_or_source    0.269756\n",
       "type                      0.063472\n",
       "year                      0.031736\n",
       "case_number               0.015868\n",
       "href_formula              0.015868\n",
       "dtype: float64"
      ]
     },
     "execution_count": 69,
     "metadata": {},
     "output_type": "execute_result"
    }
   ],
   "source": [
    "nan_cols = data.isna().mean()*100  \n",
    "\n",
    "sorted_na_cols_v6=nan_cols[nan_cols>0].sort_values(ascending=False)\n",
    "sorted_na_cols_v6"
   ]
  },
  {
   "cell_type": "markdown",
   "id": "304da6da",
   "metadata": {},
   "source": [
    "## `location` column"
   ]
  },
  {
   "cell_type": "code",
   "execution_count": 70,
   "id": "b6388b24",
   "metadata": {},
   "outputs": [
    {
     "data": {
      "text/plain": [
       "array(['Oceanside, San Diego County', 'St. Simon Island, Glynn County',\n",
       "       'Habush, Oahu', ..., 'Ocracoke Inlet', 'Panama Bay 8ºN, 79ºW',\n",
       "       'Below the English fort, Trincomalee'], dtype=object)"
      ]
     },
     "execution_count": 70,
     "metadata": {},
     "output_type": "execute_result"
    }
   ],
   "source": [
    "data[\"location\"].unique()"
   ]
  },
  {
   "cell_type": "code",
   "execution_count": 71,
   "id": "48297804",
   "metadata": {},
   "outputs": [],
   "source": [
    "data[\"location\"]=data[\"location\"].fillna(\"Unknown\")"
   ]
  },
  {
   "cell_type": "code",
   "execution_count": 72,
   "id": "4de78798",
   "metadata": {},
   "outputs": [
    {
     "data": {
      "text/plain": [
       "fatal_(y/n)               8.552840\n",
       "area                      7.219930\n",
       "name                      3.332275\n",
       "country                   0.793399\n",
       "injury                    0.444303\n",
       "investigator_or_source    0.269756\n",
       "type                      0.063472\n",
       "year                      0.031736\n",
       "case_number               0.015868\n",
       "href_formula              0.015868\n",
       "dtype: float64"
      ]
     },
     "execution_count": 72,
     "metadata": {},
     "output_type": "execute_result"
    }
   ],
   "source": [
    "nan_cols = data.isna().mean()*100  \n",
    "\n",
    "sorted_na_cols_v7=nan_cols[nan_cols>0].sort_values(ascending=False)\n",
    "sorted_na_cols_v7"
   ]
  },
  {
   "cell_type": "markdown",
   "id": "3f6d7adf",
   "metadata": {},
   "source": [
    "## `fatal` column"
   ]
  },
  {
   "cell_type": "code",
   "execution_count": 73,
   "id": "53936826",
   "metadata": {},
   "outputs": [
    {
     "data": {
      "text/plain": [
       "array(['N', 'Y', nan, 'M', 'UNKNOWN', '2017', ' N', 'N ', 'y'],\n",
       "      dtype=object)"
      ]
     },
     "execution_count": 73,
     "metadata": {},
     "output_type": "execute_result"
    }
   ],
   "source": [
    "data[\"fatal_(y/n)\"].unique()"
   ]
  },
  {
   "cell_type": "code",
   "execution_count": 74,
   "id": "387ec821",
   "metadata": {},
   "outputs": [
    {
     "data": {
      "text/plain": [
       "N          4293\n",
       "Y          1388\n",
       "UNKNOWN      71\n",
       " N            7\n",
       "M             1\n",
       "2017          1\n",
       "N             1\n",
       "y             1\n",
       "Name: fatal_(y/n), dtype: int64"
      ]
     },
     "execution_count": 74,
     "metadata": {},
     "output_type": "execute_result"
    }
   ],
   "source": [
    "data[\"fatal_(y/n)\"].value_counts()"
   ]
  },
  {
   "cell_type": "code",
   "execution_count": 75,
   "id": "1cd30c11",
   "metadata": {},
   "outputs": [],
   "source": [
    "data[\"fatal_(y/n)\"]=data[\"fatal_(y/n)\"].str.strip()\n",
    "data[\"fatal_(y/n)\"]=data[\"fatal_(y/n)\"].str.lower()"
   ]
  },
  {
   "cell_type": "code",
   "execution_count": 76,
   "id": "b13d00f4",
   "metadata": {},
   "outputs": [
    {
     "data": {
      "text/plain": [
       "n          4301\n",
       "y          1389\n",
       "unknown      71\n",
       "m             1\n",
       "2017          1\n",
       "Name: fatal_(y/n), dtype: int64"
      ]
     },
     "execution_count": 76,
     "metadata": {},
     "output_type": "execute_result"
    }
   ],
   "source": [
    "data[\"fatal_(y/n)\"].value_counts()"
   ]
  },
  {
   "cell_type": "code",
   "execution_count": 77,
   "id": "d12d6503",
   "metadata": {},
   "outputs": [],
   "source": [
    "data.loc[data[\"fatal_(y/n)\"] == 'm', \"fatal_(y/n)\"] = 'unknown'\n",
    "data.loc[data[\"fatal_(y/n)\"] == '2017', \"fatal_(y/n)\"] = 'unknown'\n"
   ]
  },
  {
   "cell_type": "code",
   "execution_count": 78,
   "id": "2752d11e",
   "metadata": {},
   "outputs": [
    {
     "data": {
      "text/plain": [
       "n          4301\n",
       "y          1389\n",
       "unknown      73\n",
       "Name: fatal_(y/n), dtype: int64"
      ]
     },
     "execution_count": 78,
     "metadata": {},
     "output_type": "execute_result"
    }
   ],
   "source": [
    "data[\"fatal_(y/n)\"].value_counts()"
   ]
  },
  {
   "cell_type": "code",
   "execution_count": 79,
   "id": "796acb27",
   "metadata": {},
   "outputs": [],
   "source": [
    "data[\"fatal_(y/n)\"]=data[\"fatal_(y/n)\"].fillna(\"unknown\")"
   ]
  },
  {
   "cell_type": "code",
   "execution_count": 80,
   "id": "35fc4dd8",
   "metadata": {},
   "outputs": [
    {
     "data": {
      "text/plain": [
       "area                      7.219930\n",
       "name                      3.332275\n",
       "country                   0.793399\n",
       "injury                    0.444303\n",
       "investigator_or_source    0.269756\n",
       "type                      0.063472\n",
       "year                      0.031736\n",
       "case_number               0.015868\n",
       "href_formula              0.015868\n",
       "dtype: float64"
      ]
     },
     "execution_count": 80,
     "metadata": {},
     "output_type": "execute_result"
    }
   ],
   "source": [
    "nan_cols = data.isna().mean()*100  \n",
    "\n",
    "sorted_na_cols_v8=nan_cols[nan_cols>0].sort_values(ascending=False)\n",
    "sorted_na_cols_v8"
   ]
  },
  {
   "cell_type": "markdown",
   "id": "95c821df",
   "metadata": {},
   "source": [
    "## Remaining columns (except date fields)"
   ]
  },
  {
   "cell_type": "code",
   "execution_count": 81,
   "id": "a95192b1",
   "metadata": {},
   "outputs": [],
   "source": [
    "# Iterate through list of columns to fill any missing values with 'Unknown'\n",
    "\n",
    "columns=['area', 'name', 'country', 'injury', 'investigator_or_source', 'type', 'href_formula']\n",
    "\n",
    "for c in columns:\n",
    "    data[c]=data[c].fillna(\"Unknown\")"
   ]
  },
  {
   "cell_type": "code",
   "execution_count": 82,
   "id": "e006335a",
   "metadata": {},
   "outputs": [
    {
     "data": {
      "text/plain": [
       "year           0.031736\n",
       "case_number    0.015868\n",
       "dtype: float64"
      ]
     },
     "execution_count": 82,
     "metadata": {},
     "output_type": "execute_result"
    }
   ],
   "source": [
    "nan_cols = data.isna().mean()*100  \n",
    "\n",
    "sorted_na_cols_v9=nan_cols[nan_cols>0].sort_values(ascending=False)\n",
    "sorted_na_cols_v9"
   ]
  },
  {
   "cell_type": "markdown",
   "id": "bcb764d6",
   "metadata": {},
   "source": [
    "### `date`, `year`,  `case_number`, `case_number_1` and `case_number_2` columns"
   ]
  },
  {
   "cell_type": "markdown",
   "id": "34bb2b0b",
   "metadata": {},
   "source": [
    "There are 5 columns that give us information about the date of the shark attack: \n",
    "- `date`\n",
    "- `year`\n",
    "- `case_number`\n",
    "- `case_number_1`\n",
    "- `case_number_2`\n",
    "\n",
    "This is repetitive, but since we are not allowed to remove any columns, we will leave them. \n",
    "\n",
    "We will fill missing values in `year` and `case_number` using information taken from another column that refers to dates."
   ]
  },
  {
   "cell_type": "code",
   "execution_count": 83,
   "id": "d58aa83b",
   "metadata": {},
   "outputs": [
    {
     "data": {
      "text/plain": [
       "2"
      ]
     },
     "execution_count": 83,
     "metadata": {},
     "output_type": "execute_result"
    }
   ],
   "source": [
    "data[\"year\"].isnull().sum()"
   ]
  },
  {
   "cell_type": "code",
   "execution_count": 84,
   "id": "7558c48c",
   "metadata": {},
   "outputs": [
    {
     "data": {
      "text/html": [
       "<div>\n",
       "<style scoped>\n",
       "    .dataframe tbody tr th:only-of-type {\n",
       "        vertical-align: middle;\n",
       "    }\n",
       "\n",
       "    .dataframe tbody tr th {\n",
       "        vertical-align: top;\n",
       "    }\n",
       "\n",
       "    .dataframe thead th {\n",
       "        text-align: right;\n",
       "    }\n",
       "</style>\n",
       "<table border=\"1\" class=\"dataframe\">\n",
       "  <thead>\n",
       "    <tr style=\"text-align: right;\">\n",
       "      <th></th>\n",
       "      <th>case_number</th>\n",
       "      <th>date</th>\n",
       "      <th>year</th>\n",
       "      <th>type</th>\n",
       "      <th>country</th>\n",
       "      <th>area</th>\n",
       "      <th>location</th>\n",
       "      <th>activity</th>\n",
       "      <th>name</th>\n",
       "      <th>sex</th>\n",
       "      <th>age</th>\n",
       "      <th>injury</th>\n",
       "      <th>fatal_(y/n)</th>\n",
       "      <th>time</th>\n",
       "      <th>species</th>\n",
       "      <th>investigator_or_source</th>\n",
       "      <th>pdf</th>\n",
       "      <th>href_formula</th>\n",
       "      <th>href</th>\n",
       "      <th>case_number_1</th>\n",
       "      <th>case_number_2</th>\n",
       "      <th>original_order</th>\n",
       "      <th>unnamed_1</th>\n",
       "      <th>unnamed_2</th>\n",
       "      <th>time_label</th>\n",
       "    </tr>\n",
       "  </thead>\n",
       "  <tbody>\n",
       "    <tr>\n",
       "      <th>187</th>\n",
       "      <td>2017.01.08.R</td>\n",
       "      <td>Reported 08-Jan-2017</td>\n",
       "      <td>NaN</td>\n",
       "      <td>Invalid</td>\n",
       "      <td>AUSTRALIA</td>\n",
       "      <td>Queensland</td>\n",
       "      <td>Unknown</td>\n",
       "      <td>Spearfishing</td>\n",
       "      <td>Kerry Daniel</td>\n",
       "      <td>M</td>\n",
       "      <td>35</td>\n",
       "      <td>No attack, shark made a threat display</td>\n",
       "      <td>unknown</td>\n",
       "      <td>Unknown</td>\n",
       "      <td>Bull shark</td>\n",
       "      <td>Liquid Vision 1/8/2017</td>\n",
       "      <td>2017.01.08.R-KerryDaniel.pdf</td>\n",
       "      <td>http://sharkattackfile.net/spreadsheets/pdf_di...</td>\n",
       "      <td>http://sharkattackfile.net/spreadsheets/pdf_di...</td>\n",
       "      <td>2017.01.08.R</td>\n",
       "      <td>2017.01.08.R</td>\n",
       "      <td>6116.0</td>\n",
       "      <td>0</td>\n",
       "      <td>0</td>\n",
       "      <td>Unknown</td>\n",
       "    </tr>\n",
       "    <tr>\n",
       "      <th>6079</th>\n",
       "      <td>1836.08.19.R</td>\n",
       "      <td>Reported 19-Aug-1836</td>\n",
       "      <td>NaN</td>\n",
       "      <td>Unprovoked</td>\n",
       "      <td>ENGLAND</td>\n",
       "      <td>Cumberland</td>\n",
       "      <td>Whitehaven</td>\n",
       "      <td>Swimming</td>\n",
       "      <td>a boy</td>\n",
       "      <td>M</td>\n",
       "      <td>Unknown</td>\n",
       "      <td>FATAL</td>\n",
       "      <td>y</td>\n",
       "      <td>Unknown</td>\n",
       "      <td>Unknown</td>\n",
       "      <td>C. Moore, GSAF</td>\n",
       "      <td>1835.08.19.R-Whitehaven.pdf</td>\n",
       "      <td>http://sharkattackfile.net/spreadsheets/pdf_di...</td>\n",
       "      <td>http://sharkattackfile.net/spreadsheets/pdf_di...</td>\n",
       "      <td>1836.08.19.R</td>\n",
       "      <td>1836.08.19.R</td>\n",
       "      <td>224.0</td>\n",
       "      <td>0</td>\n",
       "      <td>0</td>\n",
       "      <td>Unknown</td>\n",
       "    </tr>\n",
       "  </tbody>\n",
       "</table>\n",
       "</div>"
      ],
      "text/plain": [
       "       case_number                  date  year        type    country  \\\n",
       "187   2017.01.08.R  Reported 08-Jan-2017   NaN     Invalid  AUSTRALIA   \n",
       "6079  1836.08.19.R  Reported 19-Aug-1836   NaN  Unprovoked    ENGLAND   \n",
       "\n",
       "            area    location      activity          name sex      age  \\\n",
       "187   Queensland     Unknown  Spearfishing  Kerry Daniel   M       35   \n",
       "6079  Cumberland  Whitehaven      Swimming         a boy   M  Unknown   \n",
       "\n",
       "                                      injury fatal_(y/n)     time     species  \\\n",
       "187   No attack, shark made a threat display     unknown  Unknown  Bull shark   \n",
       "6079                                   FATAL           y  Unknown     Unknown   \n",
       "\n",
       "      investigator_or_source                           pdf  \\\n",
       "187   Liquid Vision 1/8/2017  2017.01.08.R-KerryDaniel.pdf   \n",
       "6079          C. Moore, GSAF   1835.08.19.R-Whitehaven.pdf   \n",
       "\n",
       "                                           href_formula  \\\n",
       "187   http://sharkattackfile.net/spreadsheets/pdf_di...   \n",
       "6079  http://sharkattackfile.net/spreadsheets/pdf_di...   \n",
       "\n",
       "                                                   href case_number_1  \\\n",
       "187   http://sharkattackfile.net/spreadsheets/pdf_di...  2017.01.08.R   \n",
       "6079  http://sharkattackfile.net/spreadsheets/pdf_di...  1836.08.19.R   \n",
       "\n",
       "     case_number_2  original_order  unnamed_1  unnamed_2 time_label  \n",
       "187   2017.01.08.R          6116.0          0          0    Unknown  \n",
       "6079  1836.08.19.R           224.0          0          0    Unknown  "
      ]
     },
     "execution_count": 84,
     "metadata": {},
     "output_type": "execute_result"
    }
   ],
   "source": [
    "data[data[\"year\"].isnull()]"
   ]
  },
  {
   "cell_type": "code",
   "execution_count": 85,
   "id": "9c020e29",
   "metadata": {},
   "outputs": [],
   "source": [
    "data.loc[data['year'].isnull(), 'year'] = data['case_number'].str.split('.').str[0]"
   ]
  },
  {
   "cell_type": "code",
   "execution_count": 86,
   "id": "af6eb34a",
   "metadata": {},
   "outputs": [
    {
     "data": {
      "text/plain": [
       "0"
      ]
     },
     "execution_count": 86,
     "metadata": {},
     "output_type": "execute_result"
    }
   ],
   "source": [
    "data[\"year\"].isnull().sum()"
   ]
  },
  {
   "cell_type": "code",
   "execution_count": 87,
   "id": "0cc54303",
   "metadata": {},
   "outputs": [
    {
     "data": {
      "text/plain": [
       "year                   2017\n",
       "case_number    2017.01.08.R\n",
       "Name: 187, dtype: object"
      ]
     },
     "execution_count": 87,
     "metadata": {},
     "output_type": "execute_result"
    }
   ],
   "source": [
    "data.loc[187][['year', 'case_number']]"
   ]
  },
  {
   "cell_type": "code",
   "execution_count": 88,
   "id": "476c24cc",
   "metadata": {},
   "outputs": [
    {
     "data": {
      "text/plain": [
       "1"
      ]
     },
     "execution_count": 88,
     "metadata": {},
     "output_type": "execute_result"
    }
   ],
   "source": [
    "data[\"case_number\"].isnull().sum()"
   ]
  },
  {
   "cell_type": "code",
   "execution_count": 89,
   "id": "f053ef8b",
   "metadata": {
    "scrolled": true
   },
   "outputs": [
    {
     "data": {
      "text/html": [
       "<div>\n",
       "<style scoped>\n",
       "    .dataframe tbody tr th:only-of-type {\n",
       "        vertical-align: middle;\n",
       "    }\n",
       "\n",
       "    .dataframe tbody tr th {\n",
       "        vertical-align: top;\n",
       "    }\n",
       "\n",
       "    .dataframe thead th {\n",
       "        text-align: right;\n",
       "    }\n",
       "</style>\n",
       "<table border=\"1\" class=\"dataframe\">\n",
       "  <thead>\n",
       "    <tr style=\"text-align: right;\">\n",
       "      <th></th>\n",
       "      <th>case_number</th>\n",
       "      <th>date</th>\n",
       "      <th>year</th>\n",
       "      <th>type</th>\n",
       "      <th>country</th>\n",
       "      <th>area</th>\n",
       "      <th>location</th>\n",
       "      <th>activity</th>\n",
       "      <th>name</th>\n",
       "      <th>sex</th>\n",
       "      <th>age</th>\n",
       "      <th>injury</th>\n",
       "      <th>fatal_(y/n)</th>\n",
       "      <th>time</th>\n",
       "      <th>species</th>\n",
       "      <th>investigator_or_source</th>\n",
       "      <th>pdf</th>\n",
       "      <th>href_formula</th>\n",
       "      <th>href</th>\n",
       "      <th>case_number_1</th>\n",
       "      <th>case_number_2</th>\n",
       "      <th>original_order</th>\n",
       "      <th>unnamed_1</th>\n",
       "      <th>unnamed_2</th>\n",
       "      <th>time_label</th>\n",
       "    </tr>\n",
       "  </thead>\n",
       "  <tbody>\n",
       "    <tr>\n",
       "      <th>5488</th>\n",
       "      <td>NaN</td>\n",
       "      <td>Reported 06-Sep-1905</td>\n",
       "      <td>1905.0</td>\n",
       "      <td>Provoked</td>\n",
       "      <td>USA</td>\n",
       "      <td>Florida</td>\n",
       "      <td>Fort Pierce, St Lucie County</td>\n",
       "      <td>Fishing</td>\n",
       "      <td>David Curry</td>\n",
       "      <td>M</td>\n",
       "      <td>Unknown</td>\n",
       "      <td>Lacerations to leg from hooked shark PROVOKED ...</td>\n",
       "      <td>n</td>\n",
       "      <td>Unknown</td>\n",
       "      <td>Unknown</td>\n",
       "      <td>Muncie Evening Press, 8/6/1913</td>\n",
       "      <td>1905.09.06.R-Curry.pdf</td>\n",
       "      <td>http://sharkattackfile.net/spreadsheets/pdf_di...</td>\n",
       "      <td>http://sharkattackfile.net/spreadsheets/pdf_di...</td>\n",
       "      <td>1905.09.06.R</td>\n",
       "      <td>1905.09.06.R</td>\n",
       "      <td>815.0</td>\n",
       "      <td>0</td>\n",
       "      <td>0</td>\n",
       "      <td>Unknown</td>\n",
       "    </tr>\n",
       "  </tbody>\n",
       "</table>\n",
       "</div>"
      ],
      "text/plain": [
       "     case_number                  date    year      type country     area  \\\n",
       "5488         NaN  Reported 06-Sep-1905  1905.0  Provoked     USA  Florida   \n",
       "\n",
       "                          location activity         name sex      age  \\\n",
       "5488  Fort Pierce, St Lucie County  Fishing  David Curry   M  Unknown   \n",
       "\n",
       "                                                 injury fatal_(y/n)     time  \\\n",
       "5488  Lacerations to leg from hooked shark PROVOKED ...           n  Unknown   \n",
       "\n",
       "      species          investigator_or_source                     pdf  \\\n",
       "5488  Unknown  Muncie Evening Press, 8/6/1913  1905.09.06.R-Curry.pdf   \n",
       "\n",
       "                                           href_formula  \\\n",
       "5488  http://sharkattackfile.net/spreadsheets/pdf_di...   \n",
       "\n",
       "                                                   href case_number_1  \\\n",
       "5488  http://sharkattackfile.net/spreadsheets/pdf_di...  1905.09.06.R   \n",
       "\n",
       "     case_number_2  original_order  unnamed_1  unnamed_2 time_label  \n",
       "5488  1905.09.06.R           815.0          0          0    Unknown  "
      ]
     },
     "execution_count": 89,
     "metadata": {},
     "output_type": "execute_result"
    }
   ],
   "source": [
    "data[data[\"case_number\"].isnull()]"
   ]
  },
  {
   "cell_type": "code",
   "execution_count": 90,
   "id": "5afdf347",
   "metadata": {},
   "outputs": [],
   "source": [
    "data.loc[data['case_number'].isnull(), 'case_number'] = data['case_number_1']"
   ]
  },
  {
   "cell_type": "code",
   "execution_count": 91,
   "id": "51eeec2b",
   "metadata": {},
   "outputs": [
    {
     "data": {
      "text/plain": [
       "case_number      1905.09.06.R\n",
       "case_number_1    1905.09.06.R\n",
       "Name: 5488, dtype: object"
      ]
     },
     "execution_count": 91,
     "metadata": {},
     "output_type": "execute_result"
    }
   ],
   "source": [
    "data.loc[5488][['case_number', 'case_number_1']]"
   ]
  },
  {
   "cell_type": "code",
   "execution_count": 92,
   "id": "96d2825d",
   "metadata": {},
   "outputs": [
    {
     "name": "stdout",
     "output_type": "stream",
     "text": [
      "<class 'pandas.core.frame.DataFrame'>\n",
      "Int64Index: 6302 entries, 0 to 6301\n",
      "Data columns (total 25 columns):\n",
      " #   Column                  Non-Null Count  Dtype  \n",
      "---  ------                  --------------  -----  \n",
      " 0   case_number             6302 non-null   object \n",
      " 1   date                    6302 non-null   object \n",
      " 2   year                    6302 non-null   object \n",
      " 3   type                    6302 non-null   object \n",
      " 4   country                 6302 non-null   object \n",
      " 5   area                    6302 non-null   object \n",
      " 6   location                6302 non-null   object \n",
      " 7   activity                6302 non-null   object \n",
      " 8   name                    6302 non-null   object \n",
      " 9   sex                     6302 non-null   object \n",
      " 10  age                     6302 non-null   object \n",
      " 11  injury                  6302 non-null   object \n",
      " 12  fatal_(y/n)             6302 non-null   object \n",
      " 13  time                    6302 non-null   object \n",
      " 14  species                 6302 non-null   object \n",
      " 15  investigator_or_source  6302 non-null   object \n",
      " 16  pdf                     6302 non-null   object \n",
      " 17  href_formula            6302 non-null   object \n",
      " 18  href                    6302 non-null   object \n",
      " 19  case_number_1           6302 non-null   object \n",
      " 20  case_number_2           6302 non-null   object \n",
      " 21  original_order          6302 non-null   float64\n",
      " 22  unnamed_1               6302 non-null   int64  \n",
      " 23  unnamed_2               6302 non-null   int64  \n",
      " 24  time_label              6302 non-null   object \n",
      "dtypes: float64(1), int64(2), object(22)\n",
      "memory usage: 1.4+ MB\n"
     ]
    }
   ],
   "source": [
    "data.info()"
   ]
  },
  {
   "cell_type": "code",
   "execution_count": 93,
   "id": "f611d62f",
   "metadata": {},
   "outputs": [
    {
     "data": {
      "text/plain": [
       "case_number               0\n",
       "date                      0\n",
       "year                      0\n",
       "type                      0\n",
       "country                   0\n",
       "area                      0\n",
       "location                  0\n",
       "activity                  0\n",
       "name                      0\n",
       "sex                       0\n",
       "age                       0\n",
       "injury                    0\n",
       "fatal_(y/n)               0\n",
       "time                      0\n",
       "species                   0\n",
       "investigator_or_source    0\n",
       "pdf                       0\n",
       "href_formula              0\n",
       "href                      0\n",
       "case_number_1             0\n",
       "case_number_2             0\n",
       "original_order            0\n",
       "unnamed_1                 0\n",
       "unnamed_2                 0\n",
       "time_label                0\n",
       "dtype: int64"
      ]
     },
     "execution_count": 93,
     "metadata": {},
     "output_type": "execute_result"
    }
   ],
   "source": [
    "data.isnull().sum()"
   ]
  },
  {
   "cell_type": "markdown",
   "id": "e3af03ef",
   "metadata": {},
   "source": [
    "Our dataset now contains 0 missing values."
   ]
  },
  {
   "cell_type": "markdown",
   "id": "fedd596b",
   "metadata": {},
   "source": [
    "### Transforming `case_number_1` into a new column named `month`\n",
    "\n",
    "There are 3 columns that are seemingly repetitions of the same information:\n",
    "- `case_number`\n",
    "- `case_number_1`\n",
    "- `case_number_2`\n",
    "\n",
    "Let's do a quick inspection of the data to confirm that this is the case:"
   ]
  },
  {
   "cell_type": "code",
   "execution_count": 94,
   "id": "96f61219",
   "metadata": {},
   "outputs": [
    {
     "name": "stdout",
     "output_type": "stream",
     "text": [
      "Unique values in `case_number`: 6286\n",
      "Unique values in `case_number_1`: 6285\n",
      "Unique values in `case_number_2`: 6286\n"
     ]
    }
   ],
   "source": [
    "print('Unique values in `case_number`:', len(data['case_number'].unique()))\n",
    "print('Unique values in `case_number_1`:', len(data['case_number_1'].unique()))\n",
    "print('Unique values in `case_number_2`:', len(data['case_number_2'].unique()))\n"
   ]
  },
  {
   "cell_type": "code",
   "execution_count": 95,
   "id": "7e4ff124",
   "metadata": {},
   "outputs": [
    {
     "data": {
      "text/plain": [
       "23"
      ]
     },
     "execution_count": 95,
     "metadata": {},
     "output_type": "execute_result"
    }
   ],
   "source": [
    "# Calculate the number of rows where `case_number` is different from `case_number_1`\n",
    "\n",
    "len(data[data['case_number']!=data['case_number_1']])"
   ]
  },
  {
   "cell_type": "code",
   "execution_count": 96,
   "id": "7e8b7b49",
   "metadata": {},
   "outputs": [
    {
     "data": {
      "text/plain": [
       "20"
      ]
     },
     "execution_count": 96,
     "metadata": {},
     "output_type": "execute_result"
    }
   ],
   "source": [
    "# Calculate the number of rows where `case_number_1` is different from `case_number_2`\n",
    "\n",
    "len(data[data['case_number_1']!=data['case_number_2']])"
   ]
  },
  {
   "cell_type": "code",
   "execution_count": 97,
   "id": "8c4e57da",
   "metadata": {},
   "outputs": [
    {
     "data": {
      "text/plain": [
       "3"
      ]
     },
     "execution_count": 97,
     "metadata": {},
     "output_type": "execute_result"
    }
   ],
   "source": [
    "# Calculate the number of rows where `case_number` is different from `case_number_2`\n",
    "\n",
    "len(data[data['case_number']!=data['case_number_2']])"
   ]
  },
  {
   "cell_type": "markdown",
   "id": "1c96e093",
   "metadata": {},
   "source": [
    "There are some inconsistencies in these columns, there are:\n",
    "- 23 rows where `case_number` doesn't match `case_number_1`\n",
    "- 20 rows where `case_number_1` doesn't match `case_number_2`\n",
    "- 3 rows where `case_number` doesn't match `case_number_2`\n",
    "\n",
    "We will keep columns `case_number` and `case_number_2` (which are the same except for 3 rows) and edit `case_number_1`.\n",
    "\n",
    "Currently, there is no column containing only the month of the shark attack. We believe this would be useful for further analysis, so we will transform `case_number_1` into a new column named `month` where only the month of the shark attack is displayed. \n",
    "\n",
    "In order to do this, we will take the value in the `case_number` column, extract the month and add that to the `case_number_1` column, which we will also rename."
   ]
  },
  {
   "cell_type": "code",
   "execution_count": 98,
   "id": "6c72afc2",
   "metadata": {},
   "outputs": [
    {
     "data": {
      "text/plain": [
       "array(['2018.06.25', '2018.06.18', '2018.06.09', ..., 'ND.0003',\n",
       "       'ND.0002', 'ND.0001'], dtype=object)"
      ]
     },
     "execution_count": 98,
     "metadata": {},
     "output_type": "execute_result"
    }
   ],
   "source": [
    "# Inspect `case_number` column to understand how to extract the month\n",
    "\n",
    "data['case_number'].unique()"
   ]
  },
  {
   "cell_type": "code",
   "execution_count": 99,
   "id": "548d2d14",
   "metadata": {},
   "outputs": [
    {
     "data": {
      "text/plain": [
       "6297    ND.0005\n",
       "6298    ND.0004\n",
       "6299    ND.0003\n",
       "6300    ND.0002\n",
       "6301    ND.0001\n",
       "Name: case_number, dtype: object"
      ]
     },
     "execution_count": 99,
     "metadata": {},
     "output_type": "execute_result"
    }
   ],
   "source": [
    "# Inspect `case_number` column to understand how to extract the month\n",
    "\n",
    "data['case_number'].tail()"
   ]
  },
  {
   "cell_type": "code",
   "execution_count": 100,
   "id": "84e6d326",
   "metadata": {},
   "outputs": [
    {
     "data": {
      "text/plain": [
       "0    2018.06.25\n",
       "1    2018.06.18\n",
       "2    2018.06.09\n",
       "3    2018.06.08\n",
       "4    2018.06.04\n",
       "Name: case_number, dtype: object"
      ]
     },
     "execution_count": 100,
     "metadata": {},
     "output_type": "execute_result"
    }
   ],
   "source": [
    "# Inspect `case_number` column to understand how to extract the month\n",
    "\n",
    "data['case_number'].head()"
   ]
  },
  {
   "cell_type": "markdown",
   "id": "428b50f9",
   "metadata": {},
   "source": [
    "The `case_number` column contains dates in formats that we can use to extract the month, such as '2018.06.25', but also other formats that are unusable, such as 'ND.0002'.\n",
    "\n",
    "Thus, we need to first select only the rows where the `case_number` column has a usable date to extract the month. For the rest of the rows, we will label the month as 'Unknown'."
   ]
  },
  {
   "cell_type": "code",
   "execution_count": 101,
   "id": "66ea0fa3",
   "metadata": {},
   "outputs": [],
   "source": [
    "def extract_month(value):\n",
    "    # Check for specific patterns and extract the month part\n",
    "    pattern = r'(\\d{4})[.-/](\\d{2})[.-/](\\d{2})'\n",
    "    match = re.match(pattern, value)\n",
    "    if match:\n",
    "        return match.group(2)\n",
    "    else:\n",
    "        return 'Unknown'  # For values that don't match the pattern, return null\n",
    "\n",
    "\n",
    "# Apply the function to transform the values in 'case_number'\n",
    "data=data.rename(columns={'case_number_1':'month'})\n",
    "data['month'] = data['case_number'].astype(str).apply(extract_month)"
   ]
  },
  {
   "cell_type": "code",
   "execution_count": 102,
   "id": "71adb935",
   "metadata": {},
   "outputs": [
    {
     "data": {
      "text/plain": [
       "0    06\n",
       "1    06\n",
       "2    06\n",
       "3    06\n",
       "4    06\n",
       "Name: month, dtype: object"
      ]
     },
     "execution_count": 102,
     "metadata": {},
     "output_type": "execute_result"
    }
   ],
   "source": [
    "data['month'].head()"
   ]
  },
  {
   "cell_type": "code",
   "execution_count": 103,
   "id": "6dd3f5e2",
   "metadata": {},
   "outputs": [
    {
     "data": {
      "text/plain": [
       "array(['06', '05', '04', '03', '02', '01', '12', '11', '10', '09', '08',\n",
       "       '07', 'Unknown', '00'], dtype=object)"
      ]
     },
     "execution_count": 103,
     "metadata": {},
     "output_type": "execute_result"
    }
   ],
   "source": [
    "data['month'].unique()"
   ]
  },
  {
   "cell_type": "code",
   "execution_count": 104,
   "id": "afc46b70",
   "metadata": {},
   "outputs": [
    {
     "data": {
      "text/html": [
       "<div>\n",
       "<style scoped>\n",
       "    .dataframe tbody tr th:only-of-type {\n",
       "        vertical-align: middle;\n",
       "    }\n",
       "\n",
       "    .dataframe tbody tr th {\n",
       "        vertical-align: top;\n",
       "    }\n",
       "\n",
       "    .dataframe thead th {\n",
       "        text-align: right;\n",
       "    }\n",
       "</style>\n",
       "<table border=\"1\" class=\"dataframe\">\n",
       "  <thead>\n",
       "    <tr style=\"text-align: right;\">\n",
       "      <th></th>\n",
       "      <th>case_number</th>\n",
       "      <th>date</th>\n",
       "      <th>year</th>\n",
       "      <th>type</th>\n",
       "      <th>country</th>\n",
       "      <th>area</th>\n",
       "      <th>location</th>\n",
       "      <th>activity</th>\n",
       "      <th>name</th>\n",
       "      <th>sex</th>\n",
       "      <th>age</th>\n",
       "      <th>injury</th>\n",
       "      <th>fatal_(y/n)</th>\n",
       "      <th>time</th>\n",
       "      <th>species</th>\n",
       "      <th>investigator_or_source</th>\n",
       "      <th>pdf</th>\n",
       "      <th>href_formula</th>\n",
       "      <th>href</th>\n",
       "      <th>month</th>\n",
       "      <th>case_number_2</th>\n",
       "      <th>original_order</th>\n",
       "      <th>unnamed_1</th>\n",
       "      <th>unnamed_2</th>\n",
       "      <th>time_label</th>\n",
       "    </tr>\n",
       "  </thead>\n",
       "  <tbody>\n",
       "    <tr>\n",
       "      <th>588</th>\n",
       "      <td>2014.00.00.b</td>\n",
       "      <td>2014</td>\n",
       "      <td>2014.0</td>\n",
       "      <td>Unprovoked</td>\n",
       "      <td>USA</td>\n",
       "      <td>Hawaii</td>\n",
       "      <td>Unknown</td>\n",
       "      <td>Free diving / Photographing pilot whales</td>\n",
       "      <td>male</td>\n",
       "      <td>M</td>\n",
       "      <td>Unknown</td>\n",
       "      <td>\"Minor laceration to shoulder\"</td>\n",
       "      <td>n</td>\n",
       "      <td>Unknown</td>\n",
       "      <td>Oceanic whitetip shark</td>\n",
       "      <td>You Tube</td>\n",
       "      <td>2014.00.00.b-OceanicWhitetip.pdf</td>\n",
       "      <td>http://sharkattackfile.net/spreadsheets/pdf_di...</td>\n",
       "      <td>http://sharkattackfile.net/spreadsheets/pdf_di...</td>\n",
       "      <td>00</td>\n",
       "      <td>2014.00.00.b</td>\n",
       "      <td>5715.0</td>\n",
       "      <td>0</td>\n",
       "      <td>0</td>\n",
       "      <td>Unknown</td>\n",
       "    </tr>\n",
       "    <tr>\n",
       "      <th>589</th>\n",
       "      <td>2014.00.00</td>\n",
       "      <td>2014</td>\n",
       "      <td>2014.0</td>\n",
       "      <td>Boating</td>\n",
       "      <td>NEW ZEALAND</td>\n",
       "      <td>Unknown</td>\n",
       "      <td>Stewart Island</td>\n",
       "      <td>Filming a documentary</td>\n",
       "      <td>Dinghy. Occupants: Jeff Kurr and Andy Casagrande</td>\n",
       "      <td>Unknown</td>\n",
       "      <td>Unknown</td>\n",
       "      <td>No injury to occupants, shark nudged and bit boat</td>\n",
       "      <td>n</td>\n",
       "      <td>Unknown</td>\n",
       "      <td>White shark, 6 m</td>\n",
       "      <td>Discovery Channel</td>\n",
       "      <td>2014.00.00-Jeff-Andy.pdf</td>\n",
       "      <td>http://sharkattackfile.net/spreadsheets/pdf_di...</td>\n",
       "      <td>http://sharkattackfile.net/spreadsheets/pdf_di...</td>\n",
       "      <td>00</td>\n",
       "      <td>2014.00.00</td>\n",
       "      <td>5714.0</td>\n",
       "      <td>0</td>\n",
       "      <td>0</td>\n",
       "      <td>Unknown</td>\n",
       "    </tr>\n",
       "    <tr>\n",
       "      <th>1298</th>\n",
       "      <td>2008.00.00.b</td>\n",
       "      <td>Fall 2008</td>\n",
       "      <td>2008.0</td>\n",
       "      <td>Provoked</td>\n",
       "      <td>USA</td>\n",
       "      <td>Florida</td>\n",
       "      <td>Off Fort Pierce, St. Lucie County</td>\n",
       "      <td>Fishing for snapper</td>\n",
       "      <td>Johnny Silva</td>\n",
       "      <td>M</td>\n",
       "      <td>Unknown</td>\n",
       "      <td>Minor injury to hand by hooked shark   PROVOKE...</td>\n",
       "      <td>n</td>\n",
       "      <td>Unknown</td>\n",
       "      <td>Nurse shark, 10'</td>\n",
       "      <td>Extremecoast.com/ 1/30/2009</td>\n",
       "      <td>2008.00.00.b-Silva.pdf</td>\n",
       "      <td>http://sharkattackfile.net/spreadsheets/pdf_di...</td>\n",
       "      <td>http://sharkattackfile.net/spreadsheets/pdf_di...</td>\n",
       "      <td>00</td>\n",
       "      <td>2008.00.00.b</td>\n",
       "      <td>5005.0</td>\n",
       "      <td>0</td>\n",
       "      <td>0</td>\n",
       "      <td>Unknown</td>\n",
       "    </tr>\n",
       "    <tr>\n",
       "      <th>1299</th>\n",
       "      <td>2008.00.00.a</td>\n",
       "      <td>Summer-2008</td>\n",
       "      <td>2008.0</td>\n",
       "      <td>Unprovoked</td>\n",
       "      <td>MEXICO</td>\n",
       "      <td>Baja California</td>\n",
       "      <td>Playas de Tijuana</td>\n",
       "      <td>Surfing</td>\n",
       "      <td>Chase Edwards</td>\n",
       "      <td>M</td>\n",
       "      <td>26</td>\n",
       "      <td>Leg bitten</td>\n",
       "      <td>n</td>\n",
       "      <td>Unknown</td>\n",
       "      <td>Possibly a hammerhead shark</td>\n",
       "      <td>San Diego Reader, 1/7/2009</td>\n",
       "      <td>2008.00.00.a-Edwards.pdf</td>\n",
       "      <td>http://sharkattackfile.net/spreadsheets/pdf_di...</td>\n",
       "      <td>http://sharkattackfile.net/spreadsheets/pdf_di...</td>\n",
       "      <td>00</td>\n",
       "      <td>2008.00.00.a</td>\n",
       "      <td>5004.0</td>\n",
       "      <td>0</td>\n",
       "      <td>0</td>\n",
       "      <td>Unknown</td>\n",
       "    </tr>\n",
       "    <tr>\n",
       "      <th>1709</th>\n",
       "      <td>2004.00.00</td>\n",
       "      <td>2004</td>\n",
       "      <td>2004.0</td>\n",
       "      <td>Unprovoked</td>\n",
       "      <td>AUSTRALIA</td>\n",
       "      <td>Western Australia</td>\n",
       "      <td>Redgate Beach</td>\n",
       "      <td>Surfing</td>\n",
       "      <td>Jack Carlsen</td>\n",
       "      <td>M</td>\n",
       "      <td>Unknown</td>\n",
       "      <td>No inury</td>\n",
       "      <td>n</td>\n",
       "      <td>Morning</td>\n",
       "      <td>Unknown</td>\n",
       "      <td>J. Carlsen</td>\n",
       "      <td>2004.00.00-Carlsen.pdf</td>\n",
       "      <td>http://sharkattackfile.net/spreadsheets/pdf_di...</td>\n",
       "      <td>http://sharkattackfile.net/spreadsheets/pdf_di...</td>\n",
       "      <td>00</td>\n",
       "      <td>2004.00.00</td>\n",
       "      <td>4594.0</td>\n",
       "      <td>0</td>\n",
       "      <td>0</td>\n",
       "      <td>Morning</td>\n",
       "    </tr>\n",
       "    <tr>\n",
       "      <th>2078</th>\n",
       "      <td>2000.00.00</td>\n",
       "      <td>2000</td>\n",
       "      <td>2000.0</td>\n",
       "      <td>Boat</td>\n",
       "      <td>USA</td>\n",
       "      <td>Florida</td>\n",
       "      <td>Boca Grande, Lee County</td>\n",
       "      <td>Fishing for tarpon</td>\n",
       "      <td>boat: occupant, Terry Winters</td>\n",
       "      <td>M</td>\n",
       "      <td>Unknown</td>\n",
       "      <td>No injury to occupant; shark bit propeller</td>\n",
       "      <td>n</td>\n",
       "      <td>Unknown</td>\n",
       "      <td>Hammerhead shark</td>\n",
       "      <td>B. Stout, News-Press, 7/2/2005</td>\n",
       "      <td>2000.00.00-BocaGrandeBoat.pdf</td>\n",
       "      <td>http://sharkattackfile.net/spreadsheets/pdf_di...</td>\n",
       "      <td>http://sharkattackfile.net/spreadsheets/pdf_di...</td>\n",
       "      <td>00</td>\n",
       "      <td>2000.00.00</td>\n",
       "      <td>4225.0</td>\n",
       "      <td>0</td>\n",
       "      <td>0</td>\n",
       "      <td>Unknown</td>\n",
       "    </tr>\n",
       "    <tr>\n",
       "      <th>2143</th>\n",
       "      <td>1999.00.00.b</td>\n",
       "      <td>1999</td>\n",
       "      <td>1999.0</td>\n",
       "      <td>Unprovoked</td>\n",
       "      <td>SOUTH AFRICA</td>\n",
       "      <td>Western Cape Province</td>\n",
       "      <td>Hospital Rock, Dyers Island</td>\n",
       "      <td>Spearfishing</td>\n",
       "      <td>Healy Lootz</td>\n",
       "      <td>M</td>\n",
       "      <td>30</td>\n",
       "      <td>Heel lacerated</td>\n",
       "      <td>n</td>\n",
       "      <td>12h00</td>\n",
       "      <td>White shark, 4.6 m [15']</td>\n",
       "      <td>V. Van der Merwe</td>\n",
       "      <td>1999.00.00.b-Lootz.pdf</td>\n",
       "      <td>http://sharkattackfile.net/spreadsheets/pdf_di...</td>\n",
       "      <td>http://sharkattackfile.net/spreadsheets/pdf_di...</td>\n",
       "      <td>00</td>\n",
       "      <td>1999.00.00.b</td>\n",
       "      <td>4160.0</td>\n",
       "      <td>0</td>\n",
       "      <td>0</td>\n",
       "      <td>Afternoon</td>\n",
       "    </tr>\n",
       "    <tr>\n",
       "      <th>2144</th>\n",
       "      <td>1999.00.00.a</td>\n",
       "      <td>1999</td>\n",
       "      <td>1999.0</td>\n",
       "      <td>Invalid</td>\n",
       "      <td>USA</td>\n",
       "      <td>Virginia</td>\n",
       "      <td>Sandridge Beach, Virginia Beach, Princess Anne...</td>\n",
       "      <td>Body surfing</td>\n",
       "      <td>male</td>\n",
       "      <td>M</td>\n",
       "      <td>Unknown</td>\n",
       "      <td>Abrasions</td>\n",
       "      <td>unknown</td>\n",
       "      <td>Unknown</td>\n",
       "      <td>Shark involvement not confirmed</td>\n",
       "      <td>Unknown</td>\n",
       "      <td>1999.00.00.a-NV-SandridgeBeach.pdf</td>\n",
       "      <td>http://sharkattackfile.net/spreadsheets/pdf_di...</td>\n",
       "      <td>http://sharkattackfile.net/spreadsheets/pdf_di...</td>\n",
       "      <td>00</td>\n",
       "      <td>1999.00.00.a</td>\n",
       "      <td>4159.0</td>\n",
       "      <td>0</td>\n",
       "      <td>0</td>\n",
       "      <td>Unknown</td>\n",
       "    </tr>\n",
       "    <tr>\n",
       "      <th>2207</th>\n",
       "      <td>1998.00.00.c</td>\n",
       "      <td>1998</td>\n",
       "      <td>1998.0</td>\n",
       "      <td>Unprovoked</td>\n",
       "      <td>SOUTH AFRICA</td>\n",
       "      <td>Eastern Cape Province</td>\n",
       "      <td>Hole-in-the Wall</td>\n",
       "      <td>Surfing</td>\n",
       "      <td>M</td>\n",
       "      <td>M</td>\n",
       "      <td>28</td>\n",
       "      <td>FATAL</td>\n",
       "      <td>y</td>\n",
       "      <td>Unknown</td>\n",
       "      <td>Unknown</td>\n",
       "      <td>BL Meel / B. Myatt</td>\n",
       "      <td>1998.00.00.c-Transkei.pdf</td>\n",
       "      <td>http://sharkattackfile.net/spreadsheets/pdf_di...</td>\n",
       "      <td>http://sharkattackfile.net/spreadsheets/pdf_di...</td>\n",
       "      <td>00</td>\n",
       "      <td>1998.00.00.c</td>\n",
       "      <td>4096.0</td>\n",
       "      <td>0</td>\n",
       "      <td>0</td>\n",
       "      <td>Unknown</td>\n",
       "    </tr>\n",
       "    <tr>\n",
       "      <th>2208</th>\n",
       "      <td>1998.00.00.b</td>\n",
       "      <td>1998</td>\n",
       "      <td>1998.0</td>\n",
       "      <td>Unprovoked</td>\n",
       "      <td>REUNION</td>\n",
       "      <td>Beaufonds</td>\n",
       "      <td>Unknown</td>\n",
       "      <td>Diving</td>\n",
       "      <td>Unknown</td>\n",
       "      <td>Unknown</td>\n",
       "      <td>Unknown</td>\n",
       "      <td>FATAL</td>\n",
       "      <td>y</td>\n",
       "      <td>Unknown</td>\n",
       "      <td>Unknown</td>\n",
       "      <td>G. Van Grevelynghe</td>\n",
       "      <td>1998.00.00.b-Reunion.pdf</td>\n",
       "      <td>http://sharkattackfile.net/spreadsheets/pdf_di...</td>\n",
       "      <td>http://sharkattackfile.net/spreadsheets/pdf_di...</td>\n",
       "      <td>00</td>\n",
       "      <td>1998.00.00.b</td>\n",
       "      <td>4095.0</td>\n",
       "      <td>0</td>\n",
       "      <td>0</td>\n",
       "      <td>Unknown</td>\n",
       "    </tr>\n",
       "  </tbody>\n",
       "</table>\n",
       "</div>"
      ],
      "text/plain": [
       "       case_number         date    year        type       country  \\\n",
       "588   2014.00.00.b         2014  2014.0  Unprovoked           USA   \n",
       "589     2014.00.00         2014  2014.0     Boating   NEW ZEALAND   \n",
       "1298  2008.00.00.b    Fall 2008  2008.0    Provoked           USA   \n",
       "1299  2008.00.00.a  Summer-2008  2008.0  Unprovoked        MEXICO   \n",
       "1709    2004.00.00         2004  2004.0  Unprovoked     AUSTRALIA   \n",
       "2078    2000.00.00         2000  2000.0        Boat           USA   \n",
       "2143  1999.00.00.b         1999  1999.0  Unprovoked  SOUTH AFRICA   \n",
       "2144  1999.00.00.a         1999  1999.0     Invalid           USA   \n",
       "2207  1998.00.00.c         1998  1998.0  Unprovoked  SOUTH AFRICA   \n",
       "2208  1998.00.00.b         1998  1998.0  Unprovoked       REUNION   \n",
       "\n",
       "                       area  \\\n",
       "588                  Hawaii   \n",
       "589                 Unknown   \n",
       "1298                Florida   \n",
       "1299        Baja California   \n",
       "1709      Western Australia   \n",
       "2078                Florida   \n",
       "2143  Western Cape Province   \n",
       "2144               Virginia   \n",
       "2207  Eastern Cape Province   \n",
       "2208              Beaufonds   \n",
       "\n",
       "                                               location  \\\n",
       "588                                             Unknown   \n",
       "589                                      Stewart Island   \n",
       "1298                  Off Fort Pierce, St. Lucie County   \n",
       "1299                                  Playas de Tijuana   \n",
       "1709                                      Redgate Beach   \n",
       "2078                            Boca Grande, Lee County   \n",
       "2143                        Hospital Rock, Dyers Island   \n",
       "2144  Sandridge Beach, Virginia Beach, Princess Anne...   \n",
       "2207                                   Hole-in-the Wall   \n",
       "2208                                            Unknown   \n",
       "\n",
       "                                      activity  \\\n",
       "588   Free diving / Photographing pilot whales   \n",
       "589                      Filming a documentary   \n",
       "1298                       Fishing for snapper   \n",
       "1299                                   Surfing   \n",
       "1709                                   Surfing   \n",
       "2078                        Fishing for tarpon   \n",
       "2143                              Spearfishing   \n",
       "2144                              Body surfing   \n",
       "2207                                   Surfing   \n",
       "2208                                    Diving   \n",
       "\n",
       "                                                  name      sex      age  \\\n",
       "588                                               male        M  Unknown   \n",
       "589   Dinghy. Occupants: Jeff Kurr and Andy Casagrande  Unknown  Unknown   \n",
       "1298                                      Johnny Silva        M  Unknown   \n",
       "1299                                     Chase Edwards        M       26   \n",
       "1709                                      Jack Carlsen        M  Unknown   \n",
       "2078                     boat: occupant, Terry Winters        M  Unknown   \n",
       "2143                                       Healy Lootz        M       30   \n",
       "2144                                              male        M  Unknown   \n",
       "2207                                                M\n",
       "        M       28   \n",
       "2208                                           Unknown  Unknown  Unknown   \n",
       "\n",
       "                                                 injury fatal_(y/n)     time  \\\n",
       "588                      \"Minor laceration to shoulder\"           n  Unknown   \n",
       "589   No injury to occupants, shark nudged and bit boat           n  Unknown   \n",
       "1298  Minor injury to hand by hooked shark   PROVOKE...           n  Unknown   \n",
       "1299                                         Leg bitten           n  Unknown   \n",
       "1709                                           No inury           n  Morning   \n",
       "2078         No injury to occupant; shark bit propeller           n  Unknown   \n",
       "2143                                     Heel lacerated           n    12h00   \n",
       "2144                                          Abrasions     unknown  Unknown   \n",
       "2207                                              FATAL           y  Unknown   \n",
       "2208                                              FATAL           y  Unknown   \n",
       "\n",
       "                              species          investigator_or_source  \\\n",
       "588            Oceanic whitetip shark                        You Tube   \n",
       "589                  White shark, 6 m               Discovery Channel   \n",
       "1298                 Nurse shark, 10'     Extremecoast.com/ 1/30/2009   \n",
       "1299      Possibly a hammerhead shark      San Diego Reader, 1/7/2009   \n",
       "1709                          Unknown                      J. Carlsen   \n",
       "2078                 Hammerhead shark  B. Stout, News-Press, 7/2/2005   \n",
       "2143        White shark, 4.6 m [15']                 V. Van der Merwe   \n",
       "2144  Shark involvement not confirmed                         Unknown   \n",
       "2207                          Unknown              BL Meel / B. Myatt   \n",
       "2208                          Unknown              G. Van Grevelynghe   \n",
       "\n",
       "                                     pdf  \\\n",
       "588     2014.00.00.b-OceanicWhitetip.pdf   \n",
       "589             2014.00.00-Jeff-Andy.pdf   \n",
       "1298              2008.00.00.b-Silva.pdf   \n",
       "1299            2008.00.00.a-Edwards.pdf   \n",
       "1709              2004.00.00-Carlsen.pdf   \n",
       "2078       2000.00.00-BocaGrandeBoat.pdf   \n",
       "2143              1999.00.00.b-Lootz.pdf   \n",
       "2144  1999.00.00.a-NV-SandridgeBeach.pdf   \n",
       "2207           1998.00.00.c-Transkei.pdf   \n",
       "2208            1998.00.00.b-Reunion.pdf   \n",
       "\n",
       "                                           href_formula  \\\n",
       "588   http://sharkattackfile.net/spreadsheets/pdf_di...   \n",
       "589   http://sharkattackfile.net/spreadsheets/pdf_di...   \n",
       "1298  http://sharkattackfile.net/spreadsheets/pdf_di...   \n",
       "1299  http://sharkattackfile.net/spreadsheets/pdf_di...   \n",
       "1709  http://sharkattackfile.net/spreadsheets/pdf_di...   \n",
       "2078  http://sharkattackfile.net/spreadsheets/pdf_di...   \n",
       "2143  http://sharkattackfile.net/spreadsheets/pdf_di...   \n",
       "2144  http://sharkattackfile.net/spreadsheets/pdf_di...   \n",
       "2207  http://sharkattackfile.net/spreadsheets/pdf_di...   \n",
       "2208  http://sharkattackfile.net/spreadsheets/pdf_di...   \n",
       "\n",
       "                                                   href month case_number_2  \\\n",
       "588   http://sharkattackfile.net/spreadsheets/pdf_di...    00  2014.00.00.b   \n",
       "589   http://sharkattackfile.net/spreadsheets/pdf_di...    00    2014.00.00   \n",
       "1298  http://sharkattackfile.net/spreadsheets/pdf_di...    00  2008.00.00.b   \n",
       "1299  http://sharkattackfile.net/spreadsheets/pdf_di...    00  2008.00.00.a   \n",
       "1709  http://sharkattackfile.net/spreadsheets/pdf_di...    00    2004.00.00   \n",
       "2078  http://sharkattackfile.net/spreadsheets/pdf_di...    00    2000.00.00   \n",
       "2143  http://sharkattackfile.net/spreadsheets/pdf_di...    00  1999.00.00.b   \n",
       "2144  http://sharkattackfile.net/spreadsheets/pdf_di...    00  1999.00.00.a   \n",
       "2207  http://sharkattackfile.net/spreadsheets/pdf_di...    00  1998.00.00.c   \n",
       "2208  http://sharkattackfile.net/spreadsheets/pdf_di...    00  1998.00.00.b   \n",
       "\n",
       "      original_order  unnamed_1  unnamed_2 time_label  \n",
       "588           5715.0          0          0    Unknown  \n",
       "589           5714.0          0          0    Unknown  \n",
       "1298          5005.0          0          0    Unknown  \n",
       "1299          5004.0          0          0    Unknown  \n",
       "1709          4594.0          0          0    Morning  \n",
       "2078          4225.0          0          0    Unknown  \n",
       "2143          4160.0          0          0  Afternoon  \n",
       "2144          4159.0          0          0    Unknown  \n",
       "2207          4096.0          0          0    Unknown  \n",
       "2208          4095.0          0          0    Unknown  "
      ]
     },
     "execution_count": 104,
     "metadata": {},
     "output_type": "execute_result"
    }
   ],
   "source": [
    "data[data['month']=='00'].head(10)"
   ]
  },
  {
   "cell_type": "markdown",
   "id": "34c646ff",
   "metadata": {},
   "source": [
    "We can see that there are rows where the month is 00, which doesn't make sense. This is happening due to the `case_number` field containg 0 for month. \n",
    "We will remove this error by assigning 'Unknown' in the `month` column for these rows."
   ]
  },
  {
   "cell_type": "code",
   "execution_count": 105,
   "id": "b590a716",
   "metadata": {},
   "outputs": [],
   "source": [
    "data.loc[data['month']=='00', 'month'] = 'Unknown'"
   ]
  },
  {
   "cell_type": "code",
   "execution_count": 106,
   "id": "143e351e",
   "metadata": {},
   "outputs": [
    {
     "data": {
      "text/plain": [
       "array(['06', '05', '04', '03', '02', '01', '12', '11', '10', '09', '08',\n",
       "       '07', 'Unknown'], dtype=object)"
      ]
     },
     "execution_count": 106,
     "metadata": {},
     "output_type": "execute_result"
    }
   ],
   "source": [
    "data['month'].unique()"
   ]
  },
  {
   "cell_type": "markdown",
   "id": "08f8e45d",
   "metadata": {},
   "source": [
    "# Data visualisation"
   ]
  },
  {
   "cell_type": "markdown",
   "id": "b798f7e2",
   "metadata": {},
   "source": [
    "We will now explore some of the data with the help of some plots."
   ]
  },
  {
   "cell_type": "code",
   "execution_count": 107,
   "id": "466c3e43",
   "metadata": {},
   "outputs": [
    {
     "data": {
      "image/png": "[encoded data removed]",
      "text/plain": [
       "<Figure size 600x300 with 1 Axes>"
      ]
     },
     "metadata": {},
     "output_type": "display_data"
    }
   ],
   "source": [
    "# Filter the data to remove rows with 'Unknown' in 'sex'\n",
    "cleaned_data = data[data['sex'] != 'Unknown']\n",
    "\n",
    "# Group by 'sex' and count the number of rows for each group\n",
    "grouped_data = cleaned_data.groupby('sex').size().reset_index(name='count')\n",
    "\n",
    "# Create a bar plot with colors and labels\n",
    "plt.figure(figsize=(6, 3))  # Set the figure size\n",
    "plt.bar(grouped_data['sex'], grouped_data['count'], color='purple')\n",
    "\n",
    "# Set labels for the x and y axes\n",
    "plt.xlabel('Sex')\n",
    "plt.ylabel('Count')\n",
    "\n",
    "# Set a title for the plot\n",
    "plt.title('Number of Shark Attacks per Sex')\n",
    "\n",
    "# Show the plot\n",
    "plt.show()\n"
   ]
  },
  {
   "cell_type": "code",
   "execution_count": 108,
   "id": "69ca5e4d",
   "metadata": {},
   "outputs": [
    {
     "data": {
      "text/plain": [
       "<module 'matplotlib.pyplot' from '/Users/david/anaconda3/lib/python3.10/site-packages/matplotlib/pyplot.py'>"
      ]
     },
     "execution_count": 108,
     "metadata": {},
     "output_type": "execute_result"
    },
    {
     "data": {
      "image/png": "[encoded data removed]",
      "text/plain": [
       "<Figure size 1000x400 with 2 Axes>"
      ]
     },
     "metadata": {},
     "output_type": "display_data"
    }
   ],
   "source": [
    "cleaned_data=data[ (data['time_label']!='Unknown') & (data['sex']!='Unknown') ]\n",
    "\n",
    "# Group by 'time_label' and 'sex' and count the number of rows for each group\n",
    "grouped_data = cleaned_data.groupby(['time_label', 'sex']).size().reset_index(name='count')\n",
    "\n",
    "# Create a scatter plot with colors and labels\n",
    "plt.figure(figsize=(10, 4))  # Set the figure size\n",
    "plt.scatter(grouped_data['time_label'], grouped_data['sex'], s=grouped_data['count']*50, c=grouped_data['count'], alpha=0.8)\n",
    "\n",
    "# Set labels for the x and y axes\n",
    "plt.xlabel('Time Label')\n",
    "plt.ylabel('Sex')\n",
    "\n",
    "# Set a title for the plot\n",
    "plt.title('Number of Shark Attacks per Time of Day and Sex')\n",
    "\n",
    "# Add a colorbar to show the count scale\n",
    "cbar = plt.colorbar()\n",
    "cbar.set_label('Count', rotation=270, labelpad=15)\n",
    "\n",
    "# Show the plot\n",
    "plt"
   ]
  },
  {
   "cell_type": "markdown",
   "id": "1c9e7376",
   "metadata": {},
   "source": [
    "There are several conclusions we can take from the plots above. \n",
    "1. There is an overrepresentation of male victims in this dataset. Most victims of shark attacks are male. This could be due to the fact that professions where one might be exposed to sharks are historically more male-led, such as sailor, fisherman, etc. \n",
    "2. There are more shark attacks during the afternoon compared to the nighttime and the morning. Consequently, two possible conclusions can be drawn: sharks are more active during the afternoon, possibly due to their feeding patterns. Alternatively, the higher number of afternoon attacks might be due to a greater influx of people going to the beach during those hours, leading to overrepresentation.\n",
    "\n",
    "\n",
    "This is an example of the type of data exploration and visualisation that can be done using the improved dataset. Further analysis is needed to investigate more deeply."
   ]
  }
 ],
 "metadata": {
  "kernelspec": {
   "display_name": "Python 3 (ipykernel)",
   "language": "python",
   "name": "python3"
  },
  "language_info": {
   "codemirror_mode": {
    "name": "ipython",
    "version": 3
   },
   "file_extension": ".py",
   "mimetype": "text/x-python",
   "name": "python",
   "nbconvert_exporter": "python",
   "pygments_lexer": "ipython3",
   "version": "3.10.9"
  }
 },
 "nbformat": 4,
 "nbformat_minor": 5
}
